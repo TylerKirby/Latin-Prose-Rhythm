{
 "cells": [
  {
   "cell_type": "markdown",
   "metadata": {},
   "source": [
    "# Tacitus Test #"
   ]
  },
  {
   "cell_type": "code",
   "execution_count": 1,
   "metadata": {},
   "outputs": [
    {
     "ename": "SyntaxError",
     "evalue": "invalid syntax (<ipython-input-1-dfd85346cf9f>, line 3)",
     "output_type": "error",
     "traceback": [
      "\u001b[0;36m  File \u001b[0;32m\"<ipython-input-1-dfd85346cf9f>\"\u001b[0;36m, line \u001b[0;32m3\u001b[0m\n\u001b[0;31m    test_text = \"preprocessor = Preprocessor(text=test_text, title=\"Pliny's Letters Book 1\")\u001b[0m\n\u001b[0m                                                                        ^\u001b[0m\n\u001b[0;31mSyntaxError\u001b[0m\u001b[0;31m:\u001b[0m invalid syntax\n"
     ]
    }
   ],
   "source": [
    "from preprocessor import Preprocessor\n",
    "\n",
    "test_text = \"Clarōrum virōrum facta mōrēsque posterīs trādere antīquitus ūsitātum nē nostrīs quidem temporibus quamquam incūriōsa suōrum aetās omīsit quotiēns magna aliquā ac nōbilis virtūs vīcit ac supergressa est vitium parvīs magnīsque cīvitātibus commūne ignōrantiam rēctī et invidiam. sed apud priōrēs ut agere digna memorātū prōnum magisque in apertō erat ita celeberrimus quisque ingeniō ad prōdendam virtūtis memoriam sine grātiā aut ambitiōne bonae tantum cōnscientiae pretiō dūcēbātur. ac plērīque suam ipsī vītam nārrāre fīdūciam potius mōrum quam adrogantiam arbitrātī sunt nec id Rutiliō et Scaurō citrā fidem aut obtrectātiōnī fuit adeō virtūtēs īsdem temporibus optimē aestimantur quibus facillimē gignuntur. at nunc nārrātūrō mihi vītam dēfūnctī hominis veniā opus fuit quam nōn petīssem incūsātūrus tam saeva et īnfēstā virtūtibus tempora. Legimus cum Arulēnō Rūsticō Paetus Thraseā Hērenniō  Seneciōnī Prīscus Helvidius laudātī essent capitāle fuisse neque in ipsōs modo auctōrēs sed in librōs quoque eōrum saevītum dēlēgātō triumvirīs ministeriō ut monumenta clārissimōrum ingeniōrum in comitiō ac forō ūrerentur. scīlicet illō igne vōcem populī Rōmānī et lībertātem senātūs et cōnscientiam generis hūmānī abolērī arbitrābantur expulsīs īnsuper sapientiae professōribus atque omnī bona arte in exilium ācta nē quid usquam honestum occurreret. dedimus profectō grande patientiae documentum et sīcut vetus aetās vīdit quid ultimum in lībertāte esset ita nōs quid in servitūte adēmptō per inquīsītiōnēs etiam loquendī audiendīque commerciō. memoriam quoque ipsam cum vōce perdidissēmus sī tam in nostrā potestāte esset oblīvīscī quam tacēre. Nunc dēmum redit animus et quamquam prīmō statim beātissimī saeculī ortū Nerva Caesar rēs ōlim dissociābilis miscuerit prīncipātum ac lībertātem augeatque cotīdiē fēlīcitātem temporum Nerva Trājānus nec spem modo ac vōtum sēcūritās pūblica sed ipsīus vōtī fīdūciam ac rōbur adsūmpserit nātūra tamen īnfirmitātis hūmānae tardiōra sunt remedia quam mala et ut corpora nostra lentē augēscunt cito extinguuntur sīc ingenia studiaque oppresserīs facilius quam revocāverīs subit quippe etiam ipsīus inertiae dulcēdō et invīsa prīmō dēsidia postrēmō amātur. quid sī per quīndecim annōs grande mortālīs aevī spatium multī fortuitīs cāsibus prōmptissimus quisque saevitia prīncipis intercīdērunt paucī et ut ita dīxerim nōn modo aliōrum sed etiam nostrī superstitēs sumus exēmptīs ē mediā vītā tot annīs quibus juvenēs ad senectūtem senēs prope ad ipsōs  exāctae aetātis terminōs per silentium vēnimus nōn tamen pigēbit vel inconditā ac rudī vōce memoriam priōris servitūtis ac testimōnium praesentium bonōrum composuisse. hic interim līber honōrī Agricolae socerī meī dēstinātus professiōne pietātis aut laudātus erit aut excūsātus. Gnaeus Iūlius Agricolā vetere et inlūstrī Forojūliēnsium colōniā ortus utrumque avum prōcūrātōrem Caesarum habuit quae equestrīs nōbilitās est. pater illī Jūlius Graecīnus senātōriī ōrdinis studiō ēloquentiae sapientiaeque nōtus iīsque ipsīs virtūtibus īram Gāī Caesaris meritus namque Mārcum Sīlānum accūsāre jussus et quia abnuerat interfectus est. māter Jūlia Procillā fuit rārae castitātis.\"\n",
    "preprocessor = Preprocessor(text=test_text, title=\"Tacitus's Agri\")\n",
    "\n",
    "tokens = preprocessor.tokenize()\n",
    "\n",
    "print(preprocessor.title)\n",
    "print(\"\\n\")\n",
    "for i in range(0, len(tokens[\"text\"])):\n",
    "    print(\"Sentence {0}: {1}\".format(i+1, tokens[\"text\"][i][\"plain_text_sentence\"]))\n",
    "    for word in tokens[\"text\"][i][\"structured_sentence\"]:\n",
    "        print(\"\\tword: {0}\".format(word[\"word\"]))\n",
    "        for syllable in word[\"syllables\"]:\n",
    "            print(\"\\t\\tsyllable: {0}\".format(syllable[\"syllable\"]))\n",
    "            print(\"\\t\\t\\tlong by position: {0}\".format(syllable[\"long_by_position\"]))\n",
    "            print(\"\\t\\t\\tlong by nature: {0}\".format(syllable[\"long_by_nature\"]))\n",
    "            print(\"\\t\\t\\taccented: {0}\".format(syllable[\"accented\"]))\n",
    "            print(\"\\t\\t\\telide: {0}\".format(syllable[\"elide\"]))\n",
    "        print(\"\\n\")\n",
    "    print(\"\\n\")"
   ]
  },
  {
   "cell_type": "code",
   "execution_count": null,
   "metadata": {},
   "outputs": [],
   "source": []
  }
 ],
 "metadata": {
  "kernelspec": {
   "display_name": "Python 3",
   "language": "python",
   "name": "python3"
  },
  "language_info": {
   "codemirror_mode": {
    "name": "ipython",
    "version": 3
   },
   "file_extension": ".py",
   "mimetype": "text/x-python",
   "name": "python",
   "nbconvert_exporter": "python",
   "pygments_lexer": "ipython3",
   "version": "3.6.4"
  }
 },
 "nbformat": 4,
 "nbformat_minor": 2
}
