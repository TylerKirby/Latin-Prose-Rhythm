{
 "cells": [
  {
   "cell_type": "code",
   "execution_count": 1,
   "metadata": {},
   "outputs": [],
   "source": [
    "import os\n",
    "import sys\n",
    "module_path = os.path.abspath(os.path.join('..'))\n",
    "if module_path not in sys.path:\n",
    "    sys.path.append(module_path)"
   ]
  },
  {
   "cell_type": "code",
   "execution_count": 2,
   "metadata": {},
   "outputs": [],
   "source": [
    "from prose_rhythm.preprocessor import Preprocessor\n",
    "from prose_rhythm.analyze import Analyze"
   ]
  },
  {
   "cell_type": "code",
   "execution_count": 3,
   "metadata": {},
   "outputs": [],
   "source": [
    "pliny_6_20 = \"C. PLINIVS TACITŌ SVŌ S. Ais te adductum litteris quas exigenti tibi de morte avunculi mei scripsi, cupere cognoscere, quos ego Miseni relictus (id enim ingressus abruperam) non solum metus verum etiam casus pertulerim. 'Quamquam animus meminisse horret, . . . incipiam.' Profecto avunculo ipse reliquum tempus studiis (ideo enim remanseram) impendi; mox balineum cena somnus inquietus et brevis. Praecesserat per multos dies tremor terrae, minus formidolosus quia Campaniae solitus; illa vero nocte ita inualuit, ut non moveri omnia sed verti crederentur. Inrupit cubiculum meum mater; surgebam invicem, si quiesceret excitaturus. Resedimus in area domus, quae mare a tectis modico spatio dividebat. Dubito, constantiam vocare an imprudentiam debeam (agebam enim duodeuicensimum annum): posco librum Titi Livi, et quasi per otium lego atque etiam ut coeperam excerpo. Ecce amicus avunculi qui nuper ad eum ex Hispania venerat, ut me et matrem sedentes, me vero etiam legentem videt, illius patientiam securitatem meam corripit. Nihilo segnius ego intentus in librum. Jam hora diei prima, et adhuc dubius et quasi languidus dies. Jam quassatis circumjacentibus tectis, quamquam in aperto loco, angusto tamen, magnus et certus ruinae metus. Tum demum excedere oppido visum; sequitur vulgus attonitum, quodque in pavore simile prudentiae, alienum consilium suo praefert, ingentique agmine abeuntes premit et impellit. Ēgressi tecta consistimus. Multa ibi miranda, multas formidines patimur. Nam vehicula quae produci jusseramus, quamquam in planissimo campo, in contrarias partes agebantur, ac ne lapidibus quidem fulta in eodem vestigio quiescebant. Praeterea mare in se resorberi et tremore terrae quasi repelli videbamus. Certe processerat litus, multaque animalia maris siccis harenis detinebat. Ab altero latere nubes atra et horrenda, ignei spiritus tortis vibratisque discursibus rupta, in longas flammarum figuras dehiscebat; fulguribus illae et similes et majores erant. Tum vero idem ille ex Hispania amicus acrius et instantius 'Si frater' inquit 'tuus, tuus avunculus vivit, vult esse vos salvos; si periit, superstites voluit. Proinde quid cessatis evadere?' Respondimus non commissuros nos ut de salute illius incerti nostrae consuleremus. Non moratus ultra proripit se effusoque cursu periculo aufertur. Nec multo post illa nubes descendere in terras, operire maria; cinxerat Capreas et absconderat, Miseni quod procurrit abstulerat. Tum mater orare hortari jubere, quoquo modo fugerem; posse enim juvenem, se et annis et corpore gravem bene morituram, si mihi causa mortis non fuisset. Ego contra salvum me nisi una non futurum; dein manum ejus amplexus addere gradum cogo. Paret aegre incusatque se, quod me moretur. Jam cinis, adhuc tamen rarus. Respicio: densa caligo tergis imminebat, quae nos torrentis modo infusa terrae sequebatur. 'Deflectamus' inquam 'dum videmus, ne in via strati comitantium turba in tenebris obteramur.' Vix consideramus, et nox non qualis inlunis aut nubila, sed qualis in locis clausis lumine exstincto. Audires ululatus feminarum, infantum quiritatus, clamores virorum; alii parentes alii liberos alii conjuges vocibus requirebant, vocibus noscitabant; hi suum casum, illi suorum miserabantur; erant qui metu mortis mortem precarentur; multi ad deos manus tollere, plures nusquam jam deos ullos aeternamque illam et novissimam noctem mundo interpretabantur. Nec defuerunt qui fictis mentitisque terroribus vera pericula augerent. Aderant qui Miseni illud ruisse illud ardere falso sed credentibus nuntiabant. Paulum reluxit, quod non dies nobis, sed adventantis ignis indicium videbatur. Et ignis quidem longius substitit; tenebrae rursus cinis rursus, multus et gravis. Hunc identidem adsurgentes excutiebamus; operti alioqui atque etiam oblisi pondere essemus. Possem gloriari non gemitum mihi, non vocem parum fortem in tantis periculis excidisse, nisi me cum omnibus, omnia mecum perire misero, magno tamen mortalitatis solacio credidissem. Tandem illa caligo tenuata quasi in fumum nebulamve discessit; mox dies verus; sol etiam effulsit, luridus tamen qualis esse cum deficit solet. Occursabant trepidantibus adhuc oculis mutata omnia altoque cinere tamquam nive obducta. Regressi Misenum curatis utcumque corporibus suspensam dubiamque noctem spe ac metu exegimus. Metus praevalebat; nam et tremor terrae perseverabat, et plerique lymphati terrificis vaticinationibus et sua et aliena mala ludificabantur. Nobis tamen ne tunc quidem, quamquam et expertis periculum et exspectantibus, abeundi consilium, donec de avunculo nuntius. Haec nequaquam historia digna non scripturus leges et tibi scilicet qui requisisti imputabis, si digna ne epistula quidem videbuntur.\""
   ]
  },
  {
   "cell_type": "code",
   "execution_count": 4,
   "metadata": {},
   "outputs": [
    {
     "data": {
      "text/plain": [
       "\"C. PLINIVS TACITŌ SVŌ S. Ais te adductum litteris quas exigenti tibi de morte avunculi mei scripsi, cupere cognoscere, quos ego Miseni relictus (id enim ingressus abruperam) non solum metus verum etiam casus pertulerim. 'Quamquam animus meminisse horret, . . . incipiam.' Profecto avunculo ipse reliquum tempus studiis (ideo enim remanseram) impendi; mox balineum cena somnus inquietus et brevis. Praecesserat per multos dies tremor terrae, minus formidolosus quia Campaniae solitus; illa vero nocte ita inualuit, ut non moveri omnia sed verti crederentur. Inrupit cubiculum meum mater; surgebam invicem, si quiesceret excitaturus. Resedimus in area domus, quae mare a tectis modico spatio dividebat. Dubito, constantiam vocare an imprudentiam debeam (agebam enim duodeuicensimum annum): posco librum Titi Livi, et quasi per otium lego atque etiam ut coeperam excerpo. Ecce amicus avunculi qui nuper ad eum ex Hispania venerat, ut me et matrem sedentes, me vero etiam legentem videt, illius patientiam securitatem meam corripit. Nihilo segnius ego intentus in librum. Jam hora diei prima, et adhuc dubius et quasi languidus dies. Jam quassatis circumjacentibus tectis, quamquam in aperto loco, angusto tamen, magnus et certus ruinae metus. Tum demum excedere oppido visum; sequitur vulgus attonitum, quodque in pavore simile prudentiae, alienum consilium suo praefert, ingentique agmine abeuntes premit et impellit. Ēgressi tecta consistimus. Multa ibi miranda, multas formidines patimur. Nam vehicula quae produci jusseramus, quamquam in planissimo campo, in contrarias partes agebantur, ac ne lapidibus quidem fulta in eodem vestigio quiescebant. Praeterea mare in se resorberi et tremore terrae quasi repelli videbamus. Certe processerat litus, multaque animalia maris siccis harenis detinebat. Ab altero latere nubes atra et horrenda, ignei spiritus tortis vibratisque discursibus rupta, in longas flammarum figuras dehiscebat; fulguribus illae et similes et majores erant. Tum vero idem ille ex Hispania amicus acrius et instantius 'Si frater' inquit 'tuus, tuus avunculus vivit, vult esse vos salvos; si periit, superstites voluit. Proinde quid cessatis evadere?' Respondimus non commissuros nos ut de salute illius incerti nostrae consuleremus. Non moratus ultra proripit se effusoque cursu periculo aufertur. Nec multo post illa nubes descendere in terras, operire maria; cinxerat Capreas et absconderat, Miseni quod procurrit abstulerat. Tum mater orare hortari jubere, quoquo modo fugerem; posse enim juvenem, se et annis et corpore gravem bene morituram, si mihi causa mortis non fuisset. Ego contra salvum me nisi una non futurum; dein manum ejus amplexus addere gradum cogo. Paret aegre incusatque se, quod me moretur. Jam cinis, adhuc tamen rarus. Respicio: densa caligo tergis imminebat, quae nos torrentis modo infusa terrae sequebatur. 'Deflectamus' inquam 'dum videmus, ne in via strati comitantium turba in tenebris obteramur.' Vix consideramus, et nox non qualis inlunis aut nubila, sed qualis in locis clausis lumine exstincto. Audires ululatus feminarum, infantum quiritatus, clamores virorum; alii parentes alii liberos alii conjuges vocibus requirebant, vocibus noscitabant; hi suum casum, illi suorum miserabantur; erant qui metu mortis mortem precarentur; multi ad deos manus tollere, plures nusquam jam deos ullos aeternamque illam et novissimam noctem mundo interpretabantur. Nec defuerunt qui fictis mentitisque terroribus vera pericula augerent. Aderant qui Miseni illud ruisse illud ardere falso sed credentibus nuntiabant. Paulum reluxit, quod non dies nobis, sed adventantis ignis indicium videbatur. Et ignis quidem longius substitit; tenebrae rursus cinis rursus, multus et gravis. Hunc identidem adsurgentes excutiebamus; operti alioqui atque etiam oblisi pondere essemus. Possem gloriari non gemitum mihi, non vocem parum fortem in tantis periculis excidisse, nisi me cum omnibus, omnia mecum perire misero, magno tamen mortalitatis solacio credidissem. Tandem illa caligo tenuata quasi in fumum nebulamve discessit; mox dies verus; sol etiam effulsit, luridus tamen qualis esse cum deficit solet. Occursabant trepidantibus adhuc oculis mutata omnia altoque cinere tamquam nive obducta. Regressi Misenum curatis utcumque corporibus suspensam dubiamque noctem spe ac metu exegimus. Metus praevalebat; nam et tremor terrae perseverabat, et plerique lymphati terrificis vaticinationibus et sua et aliena mala ludificabantur. Nobis tamen ne tunc quidem, quamquam et expertis periculum et exspectantibus, abeundi consilium, donec de avunculo nuntius. Haec nequaquam historia digna non scripturus leges et tibi scilicet qui requisisti imputabis, si digna ne epistula quidem videbuntur.\""
      ]
     },
     "execution_count": 4,
     "metadata": {},
     "output_type": "execute_result"
    }
   ],
   "source": [
    "pliny_6_20"
   ]
  },
  {
   "cell_type": "code",
   "execution_count": 5,
   "metadata": {},
   "outputs": [],
   "source": [
    "tokens = Preprocessor(text=pliny_6_20, title='Pliny Epistula 6.20').tokenize()"
   ]
  },
  {
   "cell_type": "code",
   "execution_count": 6,
   "metadata": {},
   "outputs": [],
   "source": [
    "analysis = Analyze()\n",
    "rhythms = analysis.get_rhythms(tokens)"
   ]
  },
  {
   "cell_type": "code",
   "execution_count": 7,
   "metadata": {},
   "outputs": [
    {
     "name": "stdout",
     "output_type": "stream",
     "text": [
      "Sentence 0: 00000 plinivs tacitō svō 00000 ais te adductum litteris quas exigenti tibi de morte avunculi mei scripsi, cupere cognoscere, quos ego miseni relictus id enim ingressus abruperam non solum metus verum etiam casus pertulerim\n",
      "Rhythm: -u-uuu-u--uux\n",
      "Sentence 1:  quamquam animus meminisse horret, \n",
      "Rhythm: -uu-uu--x\n",
      "Sentence 2:  \n",
      "Rhythm: x\n",
      "Sentence 3:  \n",
      "Rhythm: x\n",
      "Sentence 4:  incipiam\n",
      "Rhythm: -uux\n",
      "Sentence 5:  profecto avunculo ipse reliquum tempus studiis ideo enim remanseram impendi\n",
      "Rhythm: uuuuuu-u-u--x\n",
      "Sentence 6:  mox balineum cena somnus inquietus et brevis\n",
      "Rhythm: u-uu-u-uuu-ux\n",
      "Sentence 7:  praecesserat per multos dies tremor terrae, minus formidolosus quia campaniae solitus\n",
      "Rhythm: uuu-uu-uu-uux\n",
      "Sentence 8:  illa vero nocte ita inualuit, ut non moveri omnia sed verti crederentur\n",
      "Rhythm: -uu-uu--uuu-x\n",
      "Sentence 9:  inrupit cubiculum meum mater\n",
      "Rhythm: -u-uuu-u-ux\n",
      "Sentence 10:  surgebam invicem, si quiesceret excitaturus\n",
      "Rhythm: -u-uu-uu-uuux\n",
      "Sentence 11:  resedimus in area domus, quae mare a tectis modico spatio dividebat\n",
      "Rhythm: u--uuuuuuuuux\n",
      "Sentence 12:  dubito, constantiam vocare an imprudentiam debeam agebam enim duodeuicensimum annum\n",
      "Rhythm: uuu-uuuuu-u-x\n",
      "Sentence 13:  posco librum titi livi, et quasi per otium lego atque etiam ut coeperam excerpo\n",
      "Rhythm: u-u-uu-uuu--x\n",
      "Sentence 14:  ecce amicus avunculi qui nuper ad eum ex hispania venerat, ut me et matrem sedentes, me vero etiam legentem videt, illius patientiam securitatem meam corripit\n",
      "Rhythm: -u-uuuu-u--ux\n",
      "Sentence 15:  nihilo segnius ego intentus in librum\n",
      "Rhythm: uuu-uuu--u-ux\n",
      "Sentence 16:  jam hora diei prima, et adhuc dubius et quasi languidus dies\n",
      "Rhythm: u-uuu-uu---ux\n",
      "Sentence 17:  jam quassatis circumjacentibus tectis, quamquam in aperto loco, angusto tamen, magnus et certus ruinae metus\n",
      "Rhythm: uu--u---uu-ux\n",
      "Sentence 18:  tum demum excedere oppido visum\n",
      "Rhythm: -u-uu-uuux\n",
      "Sentence 19:  sequitur vulgus attonitum, quodque in pavore simile prudentiae, alienum consilium suo praefert, ingentique agmine abeuntes premit et impellit\n",
      "Rhythm: u-uuu--uuu--x\n",
      "Sentence 20:  ēgressi tecta consistimus\n",
      "Rhythm: --u-u--ux\n",
      "Sentence 21:  multa ibi miranda, multas formidines patimur\n",
      "Rhythm: uu-u---uu-uux\n",
      "Sentence 22:  nam vehiccula quae produci jusseramus, quamquam in planissimo campo, in contrarias partes agebantur, ac ne lapidibus quidem fulta in eodem vestigio quiescebant\n",
      "Rhythm: -uuu--uuuu-ux\n",
      "Sentence 23:  praeterea mare in se resorberi et tremore terrae quasi repelli videbamus\n",
      "Rhythm: uu--uuu-uuuux\n",
      "Sentence 24:  certe processerat litus, multaque animalia maris siccis harenis detinebat\n",
      "Rhythm: uuu--uuu-uuux\n",
      "Sentence 25:  ab altero latere nubes atra et horrenda, ignei spiritus tortis vibratisque discursibus rupta, in longas flammarum figuras dehiscebat\n",
      "Rhythm: ----u-uu-u-ux\n",
      "Sentence 26:  fulguribus illae et similes et majores erant\n",
      "Rhythm: uu--uuu-uuuux\n",
      "Sentence 27:  tum vero idem ille ex hispania amicus acrius et instantius si frater inquit tuus, tuus avunculus vivit, vult esse vos salvos\n",
      "Rhythm: uu-u-u---u--x\n",
      "Sentence 28:  si periit, superstites voluit\n",
      "Rhythm: uuu-u-u-uux\n",
      "Sentence 29:  proinde quid cessatis evadere\n",
      "Rhythm: u-u--uuuuux\n",
      "Sentence 30:  respondimus non commissuros nos ut de salute illius incerti nostrae consuleremus\n",
      "Rhythm: -uu--u---uuux\n",
      "Sentence 31:  non moratus ultra proripit se effusoque cursu periculo aufertur\n",
      "Rhythm: --uuu-uuuu--x\n",
      "Sentence 32:  nec multo post illa nubes descendere in terras, operire maria\n",
      "Rhythm: --u--uuuuuuux\n",
      "Sentence 33:  cinxerat capreas et absconderat, miseni quod procurrit abstulerat\n",
      "Rhythm: u-uuu-u-u-uux\n",
      "Sentence 34:  tum mater orare hortari jubere, quoquo modo fugerem\n",
      "Rhythm: -uuuuuuuuuuux\n",
      "Sentence 35:  posse enim juvenem, se et annis et corpore gravem bene morituram, si mihi causa mortis non fuisset\n",
      "Rhythm: u-uuu-u---u-x\n",
      "Sentence 36:  ego contra salvum me nisi una non futurum\n",
      "Rhythm: u-u--uuuu-uux\n",
      "Sentence 37:  dein manum ejus amplexus addere gradum cogo\n",
      "Rhythm: uuu--u-uuu-ux\n",
      "Sentence 38:  paret aegre incusatque se, quod me moretur\n",
      "Rhythm: uu--u-uu-uuux\n",
      "Sentence 39:  jam cinis, adhuc tamen rarus\n",
      "Rhythm: -uuu-u-ux\n",
      "Sentence 40:  respicio\n",
      "Rhythm: -uux\n",
      "Sentence 41:  densa caligo tergis imminebat, quae nos torrentis modo infusa terrae sequebatur\n",
      "Rhythm: ---u-uu--uuux\n",
      "Sentence 42:  deflectamus inquam dum videmus, ne in via strati comitantium turba in tenebris obteramur\n",
      "Rhythm: u-u---uuu-uux\n",
      "Sentence 43:  roman numeral consideramus, et nox non qualis inlunis aut nubila, sed qualis in locis clausis lumine exstincto\n",
      "Rhythm: -uu-u---uu--x\n",
      "Sentence 44:  audires ululatus feminarum, infantum quiritatus, clamores virorum\n",
      "Rhythm: ---uuu-uu-uux\n",
      "Sentence 45:  alii parentes alii liberos alii conjuges vocibus requirebant, vocibus noscitabant\n",
      "Rhythm: u-uuu-uu--uux\n",
      "Sentence 46:  hi suum casum, roman numeral suorum miserabantur\n",
      "Rhythm: u-uu-uu-uuu-x\n",
      "Sentence 47:  erant qui metu mortis mortem precarentur\n",
      "Rhythm: u-uuu----uu-x\n",
      "Sentence 48:  multi ad deos manus tollere, plures nusquam jam deos ullos aeternamque illam et novissimam noctem mundo interpretabantur\n",
      "Rhythm: u-u------uu-x\n",
      "Sentence 49:  nec defuerunt qui fictis mentitisque terroribus vera pericula augerent\n",
      "Rhythm: u-uu-uuuuu-ux\n",
      "Sentence 50:  aderant qui miseni illud ruisse illud ardere falso sed credentibus nuntiabant\n",
      "Rhythm: uu-u-u-u--uux\n",
      "Sentence 51:  paulum reluxit, quod non dies nobis, sed adventantis ignis indicium videbatur\n",
      "Rhythm: --u-u-uu-uuux\n",
      "Sentence 52:  et ignis quidem longius substitit\n",
      "Rhythm: u--u--u--ux\n",
      "Sentence 53:  tenebrae rursus cinis rursus, multus et gravis\n",
      "Rhythm: u---u----u-ux\n",
      "Sentence 54:  hunc identidem adsurgentes excutiebamus\n",
      "Rhythm: u-u---u-uuuux\n",
      "Sentence 55:  operti alioqui atque etiam oblisi pondere essemus\n",
      "Rhythm: uu-uu-uu-u-ux\n",
      "Sentence 56:  possem gloriari non gemitum mihi, non vocem parum fortem in tantis periculis excidisse, nisi me cum omnibus, omnia mecum perire misero, magno tamen mortalitatis solacio credidissem\n",
      "Rhythm: -uuu-uuuuuu-x\n",
      "Sentence 57:  tandem illa caligo tenuata quasi in fumum nebulamve discessit\n",
      "Rhythm: uuu-u-uu-u--x\n",
      "Sentence 58:  mox dies verus\n",
      "Rhythm: -u-ux\n",
      "Sentence 59:  sol etiam effulsit, luridus tamen qualis esse cum deficit solet\n",
      "Rhythm: -u-uu-u-uu-ux\n",
      "Sentence 60:  occursabant trepidantibus adhuc oculis mutata omnia altoque cinere tamquam nive obducta\n",
      "Rhythm: u-uuuuu--u--x\n",
      "Sentence 61:  regressi misenum curatis utcumque corporibus suspensam dubiamque noctem spe ac metu exegimus\n",
      "Rhythm: -uu-u---u-uux\n",
      "Sentence 62:  metus praevalebat\n",
      "Rhythm: u--uux\n",
      "Sentence 63:  nam et tremor terrae perseverabat, et plerique lymphati terrificis vaticinationibus et sua et aliena mala ludificabantur\n",
      "Rhythm: uuuuuuuuuuu-x\n",
      "Sentence 64:  nobis tamen ne tunc quidem, quamquam et expertis periculum et exspectantibus, abeundi consilium, donec de avunculo nuntius\n",
      "Rhythm: -uu-u-u-uu-ux\n",
      "Sentence 65:  haec nequaquam historia digna non scripturus leges et tibi scilicet qui requisisti imputabis, si digna ne epistula quidem videbuntur\n",
      "Rhythm: u-uu-uuu-uu-x\n"
     ]
    }
   ],
   "source": [
    "for i, sent in enumerate(rhythms):\n",
    "    if type(sent) != int:\n",
    "        print('Sentence {}: {}'.format(i, sent[0]))\n",
    "        print('Rhythm: {}'.format(sent[1]))"
   ]
  },
  {
   "cell_type": "code",
   "execution_count": null,
   "metadata": {},
   "outputs": [],
   "source": []
  }
 ],
 "metadata": {
  "kernelspec": {
   "display_name": "Python 3",
   "language": "python",
   "name": "python3"
  },
  "language_info": {
   "codemirror_mode": {
    "name": "ipython",
    "version": 3
   },
   "file_extension": ".py",
   "mimetype": "text/x-python",
   "name": "python",
   "nbconvert_exporter": "python",
   "pygments_lexer": "ipython3",
   "version": "3.6.2"
  }
 },
 "nbformat": 4,
 "nbformat_minor": 2
}
