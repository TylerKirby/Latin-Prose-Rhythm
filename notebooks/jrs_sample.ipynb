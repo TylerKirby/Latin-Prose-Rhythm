{
 "cells": [
  {
   "cell_type": "code",
   "execution_count": 1,
   "metadata": {},
   "outputs": [],
   "source": [
    "import os\n",
    "import sys\n",
    "module_path = os.path.abspath(os.path.join('..'))\n",
    "if module_path not in sys.path:\n",
    "    sys.path.append(module_path)"
   ]
  },
  {
   "cell_type": "code",
   "execution_count": 8,
   "metadata": {},
   "outputs": [],
   "source": [
    "from prose_rhythm.preprocessor import Preprocessor\n",
    "from prose_rhythm.analyze import Analyze"
   ]
  },
  {
   "cell_type": "code",
   "execution_count": 9,
   "metadata": {},
   "outputs": [],
   "source": [
    "pliny_6_2 = \"\"\"C. PLINIVS ARRIĀNŌ SVŌ S. \n",
    "    Soleō nōn numquam in jūdiciīs quaerere M. Rēgulum; \n",
    "nōlō enim dīcere dēsīderāre. Cūr ergō quaerō? Habēbat \n",
    "studiīs honōrem, timēbat pallēbat scrībēbat, quamvīs nōn \n",
    "posset ēdiscere. Illud ipsum, quod oculum modo dextrum \n",
    "modo sinistrum circumlinēbat (dextrum sī ā petītōre, alterum \n",
    "sī ā possessōre esset āctūrus), quod candidum splēnium in hōc \n",
    "aut in illud supercilium trānsferēbat, quod semper haruspicēs \n",
    "cōnsulēbat dē āctiōnis ēventū, ā nimiā superstitiōne sed \n",
    "tamen et ā magnō studiōrum honōre veniēbat. Jam illa per-  \n",
    "quam jūcunda ūna dīcentibus, quod lībera tempora petēbat, \n",
    "quod audītūrōs corrogābat. Quid enim jūcundius quam sub \n",
    "alterīus invidiā quamdiū vēlīs, et in aliēnō audītōriō quasi \n",
    "dēprehēnsum commodē dīcere? \n",
    "    Sed utcumque sē habent ista, bene fēcit Rēgulus quod est \n",
    "mortuus: melius, sī ante. Nunc enim sānē poterat sine malō \n",
    "pūblicō vīvere, sub eō prīncipe sub quō nocēre nōn poterat. \n",
    "Ideō fās est nōn numquam eum quaerere. Nam, postquam \n",
    "obiit ille, incrēbruit passim et inualuit cōnsuētūdō bīnās vel \n",
    "singulās clepsydrās, interdum etiam dīmidiās et dandī et \n",
    "petendī. Nam et quī dīcunt, ēgisse mālunt quam agere, et quī \n",
    "audiunt, fīnīre quam jūdicāre. Tanta neglegentia tanta dē-\n",
    "sidia, tanta dēnique inreverentia studiōrum perīculōrumque \n",
    "est. An nōs sapientiōrēs mājōribus nostrīs, nōs lēgibus ipsīs \n",
    "jūstiōrēs, quae tot hōrās tot diēs tot comperendinātiōnēs \n",
    "largiuntur? Hebetēs illī et suprā modum tardī; nōs apertius \n",
    "dīcimus, celerius intellegimus, religiōsius jūdicāmus, quia \n",
    "pauciōribus clepsydrīs praecipitāmus causās quam diēbus \n",
    "explicārī solēbant. Ō Rēgule, quī ambitiōne ab omnibus \n",
    "obtinēbās quod fideī paucissimī praestant! Equidem quotiēns \n",
    "jūdicō, quod vel saepius faciō quam dīcō, quantum quis \n",
    "plūrimum postulat aquae dō. Etenim temerārium exīstimō \n",
    "dīvīnāre quam spatiōsa sit causā inaudītā, tempusque negōtiō \n",
    "fīnīre cūjus modum ignōrēs, praesertim cum prīmam religiōnī \n",
    "suae jūdex patientiam dēbeat, quae pars magna jūstitiae est. \n",
    "At quaedam supervacua dīcuntur. Etiam: sed satius est et \n",
    "haec dīcī quam nōn dīcī necessāria. Praetereā, an sint super-\n",
    "vacuā, nisi cum audiēris scīre nōn possīs. Sed dē hīs melius  \n",
    "cōram ut dē plūribus vitiīs cīvitātis. Nam tū quoque amōre \n",
    "commūnium sōlēs ēmendārī cupere quae jam corrigere \n",
    "difficile est. \n",
    "    Nunc respiciāmus domōs nostrās. Ecquid omnia in tua \n",
    "rēctē? in meā nōvī nihil. Mihi autem et grātiōra sunt bona \n",
    "quod persevērant, et leviōra incommoda quod adsuēvī. Valē. \n",
    "\"\"\""
   ]
  },
  {
   "cell_type": "code",
   "execution_count": 10,
   "metadata": {},
   "outputs": [],
   "source": [
    "tokens = Preprocessor(text=pliny_6_2, title='Pliny Epistula 6.2').tokenize()"
   ]
  },
  {
   "cell_type": "code",
   "execution_count": 13,
   "metadata": {},
   "outputs": [],
   "source": [
    "analysis = Analyze()\n",
    "rhythms = analysis.get_rhythms(tokens)"
   ]
  },
  {
   "cell_type": "code",
   "execution_count": 16,
   "metadata": {},
   "outputs": [
    {
     "name": "stdout",
     "output_type": "stream",
     "text": [
      "Sentence 0: 00000 plinivs arriānō svō 00000 soleō nōn numquam in jūdiciīs quaerere 00000 rēgulum\n",
      "Rhythm: x\n",
      "Sentence 1:  nōlō enim dīcere dēsīderāre\n",
      "Rhythm: -u--uu--u-x\n",
      "Sentence 2:  cūr ergō quaerō\n",
      "Rhythm: ----x\n",
      "Sentence 3:  habēbat studiīs honōrem, timēbat pallēbat scrībēbat, quamvīs nōn posset ēdiscere\n",
      "Rhythm: --------u--ux\n",
      "Sentence 4:  illud ipsum, quod oculum modo dextrum modo sinistrum circumlinēbat dextrum sī ā petītōre, alterum sī ā possessōre esset āctūrus, quod candidum splēnium in hōc aut in illud supercilium trānsferēbat, quod semper haruspicēs cōnsulēbat dē āctiōnis ēventū, ā nimiā superstitiōne sed tamen et ā magnō studiōrum honōre veniēbat\n",
      "Rhythm: ---uu-u-uuu-x\n",
      "Sentence 5:  jam illa per- quam jūcunda ūna dīcentibus, quod lībera tempora petēbat, quod audītūrōs corrogābat\n",
      "Rhythm: uu--u-----u-x\n",
      "Sentence 6:  quid enim jūcundius quam sub alterīus invidiā quamdiū vēlīs, et in aliēnō audītōriō quasi dēprehēnsum commodē dīcere\n",
      "Rhythm: -uu-u---u--ux\n",
      "Sentence 7:  sed utcumque sē habent ista, bene fēcit rēgulus quod est mortuus\n",
      "Rhythm: uuu---u-u--ux\n",
      "Sentence 8:  melius, sī ante\n",
      "Rhythm: uu--x\n",
      "Sentence 9:  nunc enim sānē poterat sine malō pūblicō vīvere, sub eō prīncipe sub quō nocēre nōn poterat\n",
      "Rhythm: --uu--u-u-uux\n",
      "Sentence 10:  ideō fās est nōn numquam eum quaerere\n",
      "Rhythm: uu-----u--ux\n",
      "Sentence 11:  nam, postquam obiit ille, incrēbruit passim et inualuit cōnsuētūdō bīnās vel singulās clepsydrās, interdum etiam dīmidiās et dandī et petendī\n",
      "Rhythm: uu--uu----u-x\n",
      "Sentence 12:  nam et quī dīcunt, ēgisse mālunt quam agere, et quī audiunt, fīnīre quam jūdicāre\n",
      "Rhythm: u--u---u--u-x\n",
      "Sentence 13:  tanta neglegentia tanta dē- sidia, tanta dēnique inreverentia studiōrum perīculōrumque est\n",
      "Rhythm: -uuuu--u-u--x\n",
      "Sentence 14:  an nōs sapientiōrēs mājōribus nostrīs, nōs lēgibus ipsīs jūstiōrēs, quae tot hōrās tot diēs tot comperendinātiōnēs largiuntur\n",
      "Rhythm: --u-u-u---u-x\n",
      "Sentence 15:  hebetēs roman numeral et suprā modum tardī\n",
      "Rhythm: -u-uuu-u-u--x\n",
      "Sentence 16:  nōs apertius dīcimus, celerius intellegimus, religiōsius jūdicāmus, quia pauciōribus clepsydrīs praecipitāmus causās quam diēbus explicārī solēbant\n",
      "Rhythm: ---u-u-u--u-x\n",
      "Sentence 17:  ō rēgule, quī ambitiōne ab omnibus obtinēbās quod fideī paucissimī praestant\n",
      "Rhythm: u---uu---u--x\n",
      "Sentence 18:  equidem quotiēns jūdicō, quod vel saepius faciō quam dīcō, quantum quis plūrimum postulat aquae dō\n",
      "Rhythm: -----u-uuuu-x\n",
      "Sentence 19:  etenim temerārium exīstimō dīvīnāre quam spatiōsa sit causā inaudītā, tempusque negōtiō fīnīre cūjus modum ignōrēs, praesertim cum prīmam religiōnī suae jūdex patientiam dēbeat, quae pars magna jūstitiae est\n",
      "Rhythm: u--u----u-uux\n",
      "Sentence 20:  at quaedam supervacua dīcuntur\n",
      "Rhythm: ---u-uuu--x\n",
      "Sentence 21:  etiam\n",
      "Rhythm: x\n",
      "Sentence 22:  sed satius est et haec dīcī quam nōn dīcī necessāria\n",
      "Rhythm: u-------u--ux\n",
      "Sentence 23:  praetereā, an sint super- vacuā, nisi cum audiēris scīre nōn possīs\n",
      "Rhythm: u-uu-u---u--x\n",
      "Sentence 24:  sed dē hīs melius cōram ut dē plūribus vitiīs cīvitātis\n",
      "Rhythm: ----u-uu--u-x\n",
      "Sentence 25:  nam tū quoque amōre commūnium sōlēs ēmendārī cupere quae jam corrigere difficile est\n",
      "Rhythm: uuu---uuu-uux\n",
      "Sentence 26:  nunc respiciāmus domōs nostrās\n",
      "Rhythm: --uu--u--x\n",
      "Sentence 27:  ecquid omnia in tua rēctē\n",
      "Rhythm: -u-u-uu-x\n",
      "Sentence 28:  in meā nōvī nihil\n",
      "Rhythm: -u---ux\n",
      "Sentence 29:  mihi autem et grātiōra sunt bona quod persevērant, et leviōra incommoda quod adsuēvī\n",
      "Rhythm: -uu---uuu-u-x\n",
      "Sentence 30:  valē\n",
      "Rhythm: x\n"
     ]
    }
   ],
   "source": [
    "for i, sent in enumerate(rhythms):\n",
    "    if type(sent) != int:\n",
    "        print('Sentence {}: {}'.format(i, sent[0]))\n",
    "        print('Rhythm: {}'.format(sent[1]))"
   ]
  },
  {
   "cell_type": "code",
   "execution_count": null,
   "metadata": {},
   "outputs": [],
   "source": []
  }
 ],
 "metadata": {
  "kernelspec": {
   "display_name": "Python 3",
   "language": "python",
   "name": "python3"
  },
  "language_info": {
   "codemirror_mode": {
    "name": "ipython",
    "version": 3
   },
   "file_extension": ".py",
   "mimetype": "text/x-python",
   "name": "python",
   "nbconvert_exporter": "python",
   "pygments_lexer": "ipython3",
   "version": "3.6.2"
  }
 },
 "nbformat": 4,
 "nbformat_minor": 2
}
