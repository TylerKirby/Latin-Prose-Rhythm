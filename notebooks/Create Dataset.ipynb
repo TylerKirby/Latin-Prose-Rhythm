{
 "cells": [
  {
   "cell_type": "code",
   "execution_count": 1,
   "metadata": {},
   "outputs": [],
   "source": [
    "import pandas as pd"
   ]
  },
  {
   "cell_type": "code",
   "execution_count": 7,
   "metadata": {},
   "outputs": [],
   "source": [
    "df = pd.read_csv('../data/cicero_rhythms.csv')\n",
    "df = df.fillna(0)\n",
    "df = df.drop(columns=['Unnamed: 0'])\n",
    "df.to_csv('../data/cicero_rhythms_v1')"
   ]
  },
  {
   "cell_type": "code",
   "execution_count": 6,
   "metadata": {},
   "outputs": [
    {
     "data": {
      "text/plain": [
       "0                Pro Roscio Comoedo\n",
       "1                          Lucullus\n",
       "2                       Pro Fonteio\n",
       "3               Epistulae Ad Brutum\n",
       "4                         Pro Balbo\n",
       "5                            Orator\n",
       "6                           De Fato\n",
       "7            De Partitione Oratoria\n",
       "8               Laelius De Amicitia\n",
       "9               Pro Rabirio Postumo\n",
       "10                       De Legibus\n",
       "11                           Topica\n",
       "12          Cato Maior De Senectute\n",
       "13                     In Caecilium\n",
       "14                      In Vatinium\n",
       "15             Epistulae Ad Atticum\n",
       "16                 De Natura Deorum\n",
       "17                     Pro Marcello\n",
       "18                       De Finibus\n",
       "19                     Pro Cluentio\n",
       "20          Post Reditum Ad Populum\n",
       "21                       Pro Milone\n",
       "22                 Arati Prognotica\n",
       "23            Epistula Ad Ocatianum\n",
       "24           Post Reditum In Senatu\n",
       "25               Paradoxa Stoicorum\n",
       "26           De Haruspicum Responso\n",
       "27                 Arati Phaenomena\n",
       "28                   In Sallustinum\n",
       "29                       Pro Archia\n",
       "                  ...              \n",
       "45                           Brutus\n",
       "46                      De Officiis\n",
       "47                      De Domo Sua\n",
       "48                       Pro Sestio\n",
       "49                       Pro Murena\n",
       "50                      Philippicae\n",
       "51                     De Inventore\n",
       "52    Pro Rabirio Perduellionis Reo\n",
       "53                Carmina Fragmenta\n",
       "54     Epistulae Ad Quintum Fratrem\n",
       "55                       In Pisonem\n",
       "56                     Pro Quinctio\n",
       "57                     Facete Dicta\n",
       "58                     In Catilinam\n",
       "59        De Optimo Genere Oratorum\n",
       "60     Philosophicorum Librorum Frr\n",
       "61          Epistulae Ad Familiares\n",
       "62                       Pro Caelio\n",
       "63                      Pro Plancio\n",
       "64                       Pro Scauro\n",
       "65                  De Lege Agraria\n",
       "66         Tusculanae Disputationes\n",
       "67           Rhetorica Ad Herennium\n",
       "68                        Pro Sulla\n",
       "69                       Hortensius\n",
       "70                       De Oratore\n",
       "71                        Academica\n",
       "72                   De Divinatione\n",
       "73       De Provinciis Consularibus\n",
       "74                          Timaeus\n",
       "Name: title, Length: 75, dtype: object"
      ]
     },
     "execution_count": 6,
     "metadata": {},
     "output_type": "execute_result"
    }
   ],
   "source": []
  },
  {
   "cell_type": "code",
   "execution_count": 3,
   "metadata": {},
   "outputs": [
    {
     "data": {
      "text/plain": [
       "(75, 6453)"
      ]
     },
     "execution_count": 3,
     "metadata": {},
     "output_type": "execute_result"
    }
   ],
   "source": [
    "df.shape"
   ]
  },
  {
   "cell_type": "code",
   "execution_count": null,
   "metadata": {},
   "outputs": [],
   "source": []
  },
  {
   "cell_type": "code",
   "execution_count": null,
   "metadata": {},
   "outputs": [],
   "source": []
  }
 ],
 "metadata": {
  "kernelspec": {
   "display_name": "Python 3",
   "language": "python",
   "name": "python3"
  },
  "language_info": {
   "codemirror_mode": {
    "name": "ipython",
    "version": 3
   },
   "file_extension": ".py",
   "mimetype": "text/x-python",
   "name": "python",
   "nbconvert_exporter": "python",
   "pygments_lexer": "ipython3",
   "version": "3.6.4"
  }
 },
 "nbformat": 4,
 "nbformat_minor": 2
}
