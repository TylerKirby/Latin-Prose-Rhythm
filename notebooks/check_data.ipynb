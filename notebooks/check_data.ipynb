{
 "cells": [
  {
   "cell_type": "code",
   "execution_count": 15,
   "metadata": {},
   "outputs": [],
   "source": [
    "import pandas as pd"
   ]
  },
  {
   "cell_type": "code",
   "execution_count": 16,
   "metadata": {},
   "outputs": [],
   "source": [
    "df = pd.read_csv('../data/cicero_df_zielinski.csv')"
   ]
  },
  {
   "cell_type": "code",
   "execution_count": 17,
   "metadata": {},
   "outputs": [
    {
     "data": {
      "text/plain": [
       "title                                                       pro sulla\n",
       "total_clausulae                                                   524\n",
       "total_excluded                                                     25\n",
       "abbrev_excluded                                                     8\n",
       "bracket_excluded                                                    2\n",
       "short_excluded                                                     15\n",
       "cretic-trochee (-u--x)                                            106\n",
       "cretic-trochee 1 res (uuu--x)                                       6\n",
       "cretic-trochee 1 res (-uuu-x)                                      28\n",
       "cretic-trochee 1 res (-u-uux)                                      11\n",
       "double/molossus-cretic pure double-cretic (-u--ux)                 42\n",
       "double/molossus-cretic pure molossus-cretic (----ux)               38\n",
       "double/molossus-cretic 1 res (uuu--ux)                              2\n",
       "double/molossus-cretic 1 res (-uuu-ux)                              1\n",
       "double/molossus-cretic 1 res (-u-uuux)                              3\n",
       "double/molossus-cretic molossus not chor 1 res (uu---ux)           11\n",
       "double/molossus-cretic molossus not chor 1 res (--uu-ux)            3\n",
       "double/molossus-cretic molossus not chor 1 res (---uuux)            2\n",
       "double/molossus-cretic chor res (-uu--ux)                           5\n",
       "double/molossus-cretic ep res (-u---ux)                             7\n",
       "double trochee (-u-x)                                             126\n",
       "double trochee 1 res (uuu-x)                                        6\n",
       "double trochee 1 res (-uuux)                                        3\n",
       "hypodochmiac (-u-ux)                                               15\n",
       "hypodochmiac 1 res (uuu-ux)                                         0\n",
       "hypodochmiac 1 res (-uuuux)                                         2\n",
       "spondaic (---x)                                                    47\n",
       "heroic (-uu-x)                                                      7\n",
       "first paeon (-uux)                                                 11\n",
       "choriamb trochee (-uu--x)                                           8\n",
       "short sequence (uuuuux)                                             1\n",
       "total_artistic                                                    491\n",
       "percent_artistic                                             0.983968\n",
       "Name: 68, dtype: object"
      ]
     },
     "execution_count": 17,
     "metadata": {},
     "output_type": "execute_result"
    }
   ],
   "source": [
    "pd.options.display.max_rows = 4000\n",
    "plm = df.loc[df['title'] == 'pro sulla']\n",
    "plm.iloc[0]"
   ]
  },
  {
   "cell_type": "code",
   "execution_count": 18,
   "metadata": {},
   "outputs": [
    {
     "data": {
      "text/plain": [
       "title                                                       pro roscio comoedo\n",
       "total_clausulae                                                            490\n",
       "total_excluded                                                              58\n",
       "abbrev_excluded                                                             11\n",
       "bracket_excluded                                                             6\n",
       "short_excluded                                                              41\n",
       "cretic-trochee (-u--x)                                                      54\n",
       "cretic-trochee 1 res (uuu--x)                                                9\n",
       "cretic-trochee 1 res (-uuu-x)                                               11\n",
       "cretic-trochee 1 res (-u-uux)                                               11\n",
       "double/molossus-cretic pure double-cretic (-u--ux)                          18\n",
       "double/molossus-cretic pure molossus-cretic (----ux)                        23\n",
       "double/molossus-cretic 1 res (uuu--ux)                                       2\n",
       "double/molossus-cretic 1 res (-uuu-ux)                                       1\n",
       "double/molossus-cretic 1 res (-u-uuux)                                       5\n",
       "double/molossus-cretic molossus not chor 1 res (uu---ux)                     7\n",
       "double/molossus-cretic molossus not chor 1 res (--uu-ux)                     7\n",
       "double/molossus-cretic molossus not chor 1 res (---uuux)                     2\n",
       "double/molossus-cretic chor res (-uu--ux)                                    3\n",
       "double/molossus-cretic ep res (-u---ux)                                      8\n",
       "double trochee (-u-x)                                                       73\n",
       "double trochee 1 res (uuu-x)                                                 9\n",
       "double trochee 1 res (-uuux)                                                 2\n",
       "hypodochmiac (-u-ux)                                                        15\n",
       "hypodochmiac 1 res (uuu-ux)                                                  0\n",
       "hypodochmiac 1 res (-uuuux)                                                  2\n",
       "spondaic (---x)                                                             93\n",
       "heroic (-uu-x)                                                              15\n",
       "first paeon (-uux)                                                          34\n",
       "choriamb trochee (-uu--x)                                                    8\n",
       "short sequence (uuuuux)                                                      2\n",
       "total_artistic                                                             414\n",
       "percent_artistic                                                      0.958333\n",
       "Name: 0, dtype: object"
      ]
     },
     "execution_count": 18,
     "metadata": {},
     "output_type": "execute_result"
    }
   ],
   "source": [
    "df.iloc[0]"
   ]
  },
  {
   "cell_type": "code",
   "execution_count": 20,
   "metadata": {},
   "outputs": [
    {
     "data": {
      "text/plain": [
       "0     0.958333\n",
       "1     0.983943\n",
       "2     0.887967\n",
       "3     0.978022\n",
       "4     0.993827\n",
       "5     0.987384\n",
       "6     0.938776\n",
       "7     0.976190\n",
       "8     0.961957\n",
       "9     0.981884\n",
       "10    0.958880\n",
       "11    0.962567\n",
       "12    0.971374\n",
       "13    0.981073\n",
       "14    0.974359\n",
       "15    0.958980\n",
       "16    0.989628\n",
       "17    0.993103\n",
       "18    0.976048\n",
       "19    0.979132\n",
       "20    1.000000\n",
       "21    0.983278\n",
       "22    1.000000\n",
       "23    0.938462\n",
       "24    1.000000\n",
       "25    0.916667\n",
       "26    0.987654\n",
       "27    1.000000\n",
       "28    0.981651\n",
       "29    0.992424\n",
       "30    0.955584\n",
       "31    0.877976\n",
       "32    0.981481\n",
       "33    0.952439\n",
       "34    0.718139\n",
       "35    1.000000\n",
       "36    1.000000\n",
       "37    0.952000\n",
       "38    1.000000\n",
       "39    0.770992\n",
       "40    0.976860\n",
       "41    0.979469\n",
       "42    1.000000\n",
       "43    0.991903\n",
       "44    1.000000\n",
       "45    0.978934\n",
       "46    0.974457\n",
       "47    0.977151\n",
       "48    0.987414\n",
       "49    0.980263\n",
       "50    0.983333\n",
       "51    0.956994\n",
       "52    0.973684\n",
       "53    0.976000\n",
       "54    0.978857\n",
       "55    0.944012\n",
       "56    0.928453\n",
       "57    0.916667\n",
       "58    0.983180\n",
       "59    0.990385\n",
       "60    0.980769\n",
       "61    0.966436\n",
       "62    0.988304\n",
       "63    0.989045\n",
       "64    0.852941\n",
       "65    0.973350\n",
       "66    0.963804\n",
       "67    0.980400\n",
       "68    0.983968\n",
       "69    0.964912\n",
       "70    0.983951\n",
       "71    0.982063\n",
       "72    0.973726\n",
       "73    0.992126\n",
       "74    1.000000\n",
       "Name: percent_artistic, dtype: float64"
      ]
     },
     "execution_count": 20,
     "metadata": {},
     "output_type": "execute_result"
    }
   ],
   "source": [
    "df['percent_artistic']"
   ]
  },
  {
   "cell_type": "code",
   "execution_count": null,
   "metadata": {},
   "outputs": [],
   "source": []
  }
 ],
 "metadata": {
  "kernelspec": {
   "display_name": "Python 3",
   "language": "python",
   "name": "python3"
  },
  "language_info": {
   "codemirror_mode": {
    "name": "ipython",
    "version": 3
   },
   "file_extension": ".py",
   "mimetype": "text/x-python",
   "name": "python",
   "nbconvert_exporter": "python",
   "pygments_lexer": "ipython3",
   "version": "3.6.2"
  }
 },
 "nbformat": 4,
 "nbformat_minor": 2
}
