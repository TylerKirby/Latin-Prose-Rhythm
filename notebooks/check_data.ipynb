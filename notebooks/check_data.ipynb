{
 "cells": [
  {
   "cell_type": "code",
   "execution_count": 1,
   "metadata": {},
   "outputs": [],
   "source": [
    "import pandas as pd"
   ]
  },
  {
   "cell_type": "code",
   "execution_count": 2,
   "metadata": {},
   "outputs": [],
   "source": [
    "df = pd.read_csv('../data/cicero_df_zielinski.csv')"
   ]
  },
  {
   "cell_type": "code",
   "execution_count": 3,
   "metadata": {},
   "outputs": [
    {
     "data": {
      "text/plain": [
       "title                                                       pro sulla\n",
       "total_clausulae                                                   524\n",
       "total_excluded                                                     25\n",
       "abbrev_excluded                                                     8\n",
       "bracket_excluded                                                    2\n",
       "short_excluded                                                     15\n",
       "cretic-trochee (-u--x)                                            106\n",
       "cretic-trochee 1 res (uuu--x)                                       6\n",
       "cretic-trochee 1 res (-uuu-x)                                      28\n",
       "cretic-trochee 1 res (-u-uux)                                      11\n",
       "double/molossus-cretic pure double-cretic (-u--ux)                 42\n",
       "double/molossus-cretic pure molossus-cretic (----ux)               38\n",
       "double/molossus-cretic 1 res (uuu--ux)                              2\n",
       "double/molossus-cretic 1 res (-uuu-ux)                              1\n",
       "double/molossus-cretic 1 res (-u-uuux)                              3\n",
       "double/molossus-cretic molossus not chor 1 res (uu---ux)           11\n",
       "double/molossus-cretic molossus not chor 1 res (--uu-ux)            3\n",
       "double/molossus-cretic molossus not chor 1 res (---uuux)            2\n",
       "double/molossus-cretic chor res (-uu--ux)                           5\n",
       "double/molossus-cretic ep res (-u---ux)                             7\n",
       "double trochee (-u-x)                                             126\n",
       "double trochee 1 res (uuu-x)                                        6\n",
       "double trochee 1 res (-uuux)                                        3\n",
       "hypodochmiac (-u-ux)                                               15\n",
       "hypodochmiac 1 res (uuu-ux)                                         0\n",
       "hypodochmiac 1 res (-uuuux)                                         2\n",
       "spondaic (---x)                                                    47\n",
       "heroic (-uu-x)                                                      7\n",
       "first paeon (-uux)                                                 11\n",
       "choriamb trochee (-uu--x)                                           8\n",
       "short sequence (uuuuux)                                             1\n",
       "total_artistic                                                    491\n",
       "misc_clausulae                                                      8\n",
       "percent_clausulae                                                   1\n",
       "Name: 68, dtype: object"
      ]
     },
     "execution_count": 3,
     "metadata": {},
     "output_type": "execute_result"
    }
   ],
   "source": [
    "pd.options.display.max_rows = 4000\n",
    "plm = df.loc[df['title'] == 'pro sulla']\n",
    "plm.iloc[0]"
   ]
  },
  {
   "cell_type": "code",
   "execution_count": 4,
   "metadata": {},
   "outputs": [
    {
     "data": {
      "text/plain": [
       "title                                                       pro roscio comoedo\n",
       "total_clausulae                                                            490\n",
       "total_excluded                                                              62\n",
       "abbrev_excluded                                                             11\n",
       "bracket_excluded                                                             6\n",
       "short_excluded                                                              41\n",
       "cretic-trochee (-u--x)                                                      54\n",
       "cretic-trochee 1 res (uuu--x)                                                9\n",
       "cretic-trochee 1 res (-uuu-x)                                               11\n",
       "cretic-trochee 1 res (-u-uux)                                               11\n",
       "double/molossus-cretic pure double-cretic (-u--ux)                          18\n",
       "double/molossus-cretic pure molossus-cretic (----ux)                        23\n",
       "double/molossus-cretic 1 res (uuu--ux)                                       2\n",
       "double/molossus-cretic 1 res (-uuu-ux)                                       1\n",
       "double/molossus-cretic 1 res (-u-uuux)                                       5\n",
       "double/molossus-cretic molossus not chor 1 res (uu---ux)                     7\n",
       "double/molossus-cretic molossus not chor 1 res (--uu-ux)                     7\n",
       "double/molossus-cretic molossus not chor 1 res (---uuux)                     2\n",
       "double/molossus-cretic chor res (-uu--ux)                                    3\n",
       "double/molossus-cretic ep res (-u---ux)                                      8\n",
       "double trochee (-u-x)                                                       73\n",
       "double trochee 1 res (uuu-x)                                                 9\n",
       "double trochee 1 res (-uuux)                                                 2\n",
       "hypodochmiac (-u-ux)                                                        15\n",
       "hypodochmiac 1 res (uuu-ux)                                                  0\n",
       "hypodochmiac 1 res (-uuuux)                                                  2\n",
       "spondaic (---x)                                                             93\n",
       "heroic (-uu-x)                                                              15\n",
       "first paeon (-uux)                                                          34\n",
       "choriamb trochee (-uu--x)                                                    8\n",
       "short sequence (uuuuux)                                                      2\n",
       "total_artistic                                                             414\n",
       "misc_clausulae                                                              14\n",
       "percent_clausulae                                                            1\n",
       "Name: 0, dtype: object"
      ]
     },
     "execution_count": 4,
     "metadata": {},
     "output_type": "execute_result"
    }
   ],
   "source": [
    "df.iloc[0]"
   ]
  },
  {
   "cell_type": "code",
   "execution_count": 6,
   "metadata": {},
   "outputs": [
    {
     "data": {
      "text/plain": [
       "0     1.0\n",
       "1     1.0\n",
       "2     1.0\n",
       "3     1.0\n",
       "4     1.0\n",
       "5     1.0\n",
       "6     1.0\n",
       "7     1.0\n",
       "8     1.0\n",
       "9     1.0\n",
       "10    1.0\n",
       "11    1.0\n",
       "12    1.0\n",
       "13    1.0\n",
       "14    1.0\n",
       "15    1.0\n",
       "16    1.0\n",
       "17    1.0\n",
       "18    1.0\n",
       "19    1.0\n",
       "20    1.0\n",
       "21    1.0\n",
       "22    1.0\n",
       "23    1.0\n",
       "24    1.0\n",
       "25    1.0\n",
       "26    1.0\n",
       "27    1.0\n",
       "28    1.0\n",
       "29    1.0\n",
       "30    1.0\n",
       "31    1.0\n",
       "32    1.0\n",
       "33    1.0\n",
       "34    1.0\n",
       "35    1.0\n",
       "36    1.0\n",
       "37    1.0\n",
       "38    1.0\n",
       "39    1.0\n",
       "40    1.0\n",
       "41    1.0\n",
       "42    1.0\n",
       "43    1.0\n",
       "44    1.0\n",
       "45    1.0\n",
       "46    1.0\n",
       "47    1.0\n",
       "48    1.0\n",
       "49    1.0\n",
       "50    1.0\n",
       "51    1.0\n",
       "52    1.0\n",
       "53    1.0\n",
       "54    1.0\n",
       "55    1.0\n",
       "56    1.0\n",
       "57    1.0\n",
       "58    1.0\n",
       "59    1.0\n",
       "60    1.0\n",
       "61    1.0\n",
       "62    1.0\n",
       "63    1.0\n",
       "64    1.0\n",
       "65    1.0\n",
       "66    1.0\n",
       "67    1.0\n",
       "68    1.0\n",
       "69    1.0\n",
       "70    1.0\n",
       "71    1.0\n",
       "72    1.0\n",
       "73    1.0\n",
       "74    1.0\n",
       "Name: percent_clausulae, dtype: float64"
      ]
     },
     "execution_count": 6,
     "metadata": {},
     "output_type": "execute_result"
    }
   ],
   "source": [
    "df['percent_clausulae']"
   ]
  },
  {
   "cell_type": "code",
   "execution_count": null,
   "metadata": {},
   "outputs": [],
   "source": []
  }
 ],
 "metadata": {
  "kernelspec": {
   "display_name": "Python 3",
   "language": "python",
   "name": "python3"
  },
  "language_info": {
   "codemirror_mode": {
    "name": "ipython",
    "version": 3
   },
   "file_extension": ".py",
   "mimetype": "text/x-python",
   "name": "python",
   "nbconvert_exporter": "python",
   "pygments_lexer": "ipython3",
   "version": "3.6.2"
  }
 },
 "nbformat": 4,
 "nbformat_minor": 2
}
