{
 "cells": [
  {
   "cell_type": "code",
   "execution_count": 9,
   "metadata": {},
   "outputs": [],
   "source": [
    "import pandas as pd"
   ]
  },
  {
   "cell_type": "code",
   "execution_count": 10,
   "metadata": {},
   "outputs": [],
   "source": [
    "df = pd.read_csv('../data/cicero_df_zielinski.csv')"
   ]
  },
  {
   "cell_type": "code",
   "execution_count": 11,
   "metadata": {},
   "outputs": [
    {
     "data": {
      "text/plain": [
       "title                                                       pro sulla\n",
       "total_clausulae                                                   524\n",
       "total_excluded                                                     26\n",
       "abbrev_excluded                                                     8\n",
       "bracket_excluded                                                    2\n",
       "short_excluded                                                     15\n",
       "cretic-trochee (-u--x)                                            106\n",
       "cretic-trochee 1 res (uuu--x)                                       6\n",
       "cretic-trochee 1 res (-uuu-x)                                      28\n",
       "cretic-trochee 1 res (-u-uux)                                      11\n",
       "double/molossus-cretic pure double-cretic (-u--ux)                 42\n",
       "double/molossus-cretic pure molossus-cretic (----ux)               38\n",
       "double/molossus-cretic 1 res (uuu--ux)                              2\n",
       "double/molossus-cretic 1 res (-uuu-ux)                              1\n",
       "double/molossus-cretic 1 res (-u-uuux)                              3\n",
       "double/molossus-cretic molossus not chor 1 res (uu---ux)           11\n",
       "double/molossus-cretic molossus not chor 1 res (--uu-ux)            3\n",
       "double/molossus-cretic molossus not chor 1 res (---uuux)            2\n",
       "double/molossus-cretic chor res (-uu--ux)                           5\n",
       "double/molossus-cretic ep res (-u---ux)                             7\n",
       "double trochee (-u-x)                                             126\n",
       "double trochee 1 res (uuu-x)                                        6\n",
       "double trochee 1 res (-uuux)                                        3\n",
       "hypodochmiac (-u-ux)                                               15\n",
       "hypodochmiac 1 res (uuu-ux)                                         0\n",
       "hypodochmiac 1 res (-uuuux)                                         2\n",
       "spondaic (---x)                                                    47\n",
       "heroic (-uu-x)                                                      7\n",
       "first paeon (-uux)                                                 11\n",
       "choriamb trochee (-uu--x)                                           8\n",
       "short sequence (uuuuux)                                             1\n",
       "total_artistic                                                    491\n",
       "percent_artistic                                             0.985944\n",
       "Name: 68, dtype: object"
      ]
     },
     "execution_count": 11,
     "metadata": {},
     "output_type": "execute_result"
    }
   ],
   "source": [
    "pd.options.display.max_rows = 4000\n",
    "plm = df.loc[df['title'] == 'pro sulla']\n",
    "plm.iloc[0]"
   ]
  },
  {
   "cell_type": "code",
   "execution_count": 12,
   "metadata": {},
   "outputs": [
    {
     "data": {
      "text/plain": [
       "title                                                       pro roscio comoedo\n",
       "total_clausulae                                                            490\n",
       "total_excluded                                                              63\n",
       "abbrev_excluded                                                             11\n",
       "bracket_excluded                                                             6\n",
       "short_excluded                                                              41\n",
       "cretic-trochee (-u--x)                                                      54\n",
       "cretic-trochee 1 res (uuu--x)                                                9\n",
       "cretic-trochee 1 res (-uuu-x)                                               11\n",
       "cretic-trochee 1 res (-u-uux)                                               11\n",
       "double/molossus-cretic pure double-cretic (-u--ux)                          18\n",
       "double/molossus-cretic pure molossus-cretic (----ux)                        23\n",
       "double/molossus-cretic 1 res (uuu--ux)                                       2\n",
       "double/molossus-cretic 1 res (-uuu-ux)                                       1\n",
       "double/molossus-cretic 1 res (-u-uuux)                                       5\n",
       "double/molossus-cretic molossus not chor 1 res (uu---ux)                     7\n",
       "double/molossus-cretic molossus not chor 1 res (--uu-ux)                     7\n",
       "double/molossus-cretic molossus not chor 1 res (---uuux)                     2\n",
       "double/molossus-cretic chor res (-uu--ux)                                    3\n",
       "double/molossus-cretic ep res (-u---ux)                                      8\n",
       "double trochee (-u-x)                                                       73\n",
       "double trochee 1 res (uuu-x)                                                 9\n",
       "double trochee 1 res (-uuux)                                                 2\n",
       "hypodochmiac (-u-ux)                                                        15\n",
       "hypodochmiac 1 res (uuu-ux)                                                  0\n",
       "hypodochmiac 1 res (-uuuux)                                                  2\n",
       "spondaic (---x)                                                             93\n",
       "heroic (-uu-x)                                                              15\n",
       "first paeon (-uux)                                                          34\n",
       "choriamb trochee (-uu--x)                                                    8\n",
       "short sequence (uuuuux)                                                      2\n",
       "total_artistic                                                             414\n",
       "percent_artistic                                                      0.969555\n",
       "Name: 0, dtype: object"
      ]
     },
     "execution_count": 12,
     "metadata": {},
     "output_type": "execute_result"
    }
   ],
   "source": [
    "df.iloc[0]"
   ]
  },
  {
   "cell_type": "code",
   "execution_count": 14,
   "metadata": {},
   "outputs": [
    {
     "data": {
      "text/plain": [
       "title                                                       pro balbo\n",
       "total_clausulae                                                   348\n",
       "total_excluded                                                     27\n",
       "abbrev_excluded                                                     9\n",
       "bracket_excluded                                                    7\n",
       "short_excluded                                                      8\n",
       "cretic-trochee (-u--x)                                             76\n",
       "cretic-trochee 1 res (uuu--x)                                       5\n",
       "cretic-trochee 1 res (-uuu-x)                                      23\n",
       "cretic-trochee 1 res (-u-uux)                                       7\n",
       "double/molossus-cretic pure double-cretic (-u--ux)                 26\n",
       "double/molossus-cretic pure molossus-cretic (----ux)               15\n",
       "double/molossus-cretic 1 res (uuu--ux)                              2\n",
       "double/molossus-cretic 1 res (-uuu-ux)                              2\n",
       "double/molossus-cretic 1 res (-u-uuux)                              0\n",
       "double/molossus-cretic molossus not chor 1 res (uu---ux)            2\n",
       "double/molossus-cretic molossus not chor 1 res (--uu-ux)            0\n",
       "double/molossus-cretic molossus not chor 1 res (---uuux)            2\n",
       "double/molossus-cretic chor res (-uu--ux)                           1\n",
       "double/molossus-cretic ep res (-u---ux)                             3\n",
       "double trochee (-u-x)                                             120\n",
       "double trochee 1 res (uuu-x)                                        2\n",
       "double trochee 1 res (-uuux)                                        3\n",
       "hypodochmiac (-u-ux)                                                5\n",
       "hypodochmiac 1 res (uuu-ux)                                         0\n",
       "hypodochmiac 1 res (-uuuux)                                         1\n",
       "spondaic (---x)                                                    18\n",
       "heroic (-uu-x)                                                      2\n",
       "first paeon (-uux)                                                  7\n",
       "choriamb trochee (-uu--x)                                           0\n",
       "short sequence (uuuuux)                                             0\n",
       "total_artistic                                                    322\n",
       "percent_artistic                                              1.00312\n",
       "Name: 4, dtype: object"
      ]
     },
     "execution_count": 14,
     "metadata": {},
     "output_type": "execute_result"
    }
   ],
   "source": [
    "df.iloc[4]"
   ]
  },
  {
   "cell_type": "code",
   "execution_count": null,
   "metadata": {},
   "outputs": [],
   "source": []
  }
 ],
 "metadata": {
  "kernelspec": {
   "display_name": "Python 3",
   "language": "python",
   "name": "python3"
  },
  "language_info": {
   "codemirror_mode": {
    "name": "ipython",
    "version": 3
   },
   "file_extension": ".py",
   "mimetype": "text/x-python",
   "name": "python",
   "nbconvert_exporter": "python",
   "pygments_lexer": "ipython3",
   "version": "3.6.2"
  }
 },
 "nbformat": 4,
 "nbformat_minor": 2
}
