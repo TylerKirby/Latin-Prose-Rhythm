{
 "cells": [
  {
   "cell_type": "code",
   "execution_count": 21,
   "metadata": {},
   "outputs": [],
   "source": [
    "import pandas as pd"
   ]
  },
  {
   "cell_type": "code",
   "execution_count": 22,
   "metadata": {},
   "outputs": [],
   "source": [
    "df = pd.read_csv('../data/cicero_df.csv')"
   ]
  },
  {
   "cell_type": "code",
   "execution_count": 31,
   "metadata": {},
   "outputs": [
    {
     "data": {
      "text/plain": [
       "title                                                                    pro lege manilia\n",
       "total clausulae                                                                       298\n",
       "total_excluded                                                                          6\n",
       "abbrev_excluded                                                                         5\n",
       "bracket_excluded                                                                        1\n",
       "cretic-trochee (-u--x)                                                                 87\n",
       "cretic-trochee 1 res (uuu--x)                                                           6\n",
       "cretic-trochee 1 res (-uuu-x)                                                          31\n",
       "cretic-trochee 1 res (-u-uux)                                                           5\n",
       "cretic-trochee 1 res total                                                             42\n",
       "cretic-trochee 2 res (uuuuu-x)                                                          2\n",
       "cretic-trochee 2 res (uuu-uux)                                                          0\n",
       "cretic-trochee 2 res (-uuuuux)                                                          0\n",
       "cretic-trochee 2 res total                                                              2\n",
       "cretic-trochee pure+res total                                                         131\n",
       "cretic-trochee chor res (-uu--x)                                                        1\n",
       "cretic-trochee chor 1 res (uuuu--x)                                                     0\n",
       "cretic-trochee chor 1 res (-uuuu-x)                                                     0\n",
       "cretic-trochee chor 1 res (-uu-uux)                                                     1\n",
       "cretic-trochee chor 1 res total                                                         1\n",
       "cretic-trochee chor total                                                               2\n",
       "cretic-trochee ep res (-u---x)                                                          4\n",
       "cretic-trochee ep 1 res (uuu---x)                                                       0\n",
       "cretic-trochee ep 1 res (-uuu--x)                                                       6\n",
       "cretic-trochee ep 1 res (-u-uu-x)                                                       0\n",
       "cretic-trochee ep 1 res (-u--uux)                                                       0\n",
       "cretic-trochee ep 1 res total                                                           6\n",
       "cretic-trochee ep total                                                                10\n",
       "cretic-trochee total                                                                  143\n",
       "double/molossus-cretic pure double-cretic (-u--ux)                                     13\n",
       "double/molossus-cretic pure molossus-cretic (----ux)                                   10\n",
       "double/molossus-cretic 1 res (uuu--ux)                                                  1\n",
       "double/molossus-cretic 1 res (-uuu-ux)                                                  2\n",
       "double/molossus-cretic 1 res (-u-uuux)                                                  0\n",
       "double/molossus-cretic 1 res total                                                      3\n",
       "double/molossus-cretic 2 res (uuuuu-ux)                                                 0\n",
       "double/molossus-cretic 2 res (uuu-uuux)                                                 0\n",
       "double/molossus-cretic 2 res (-uuuuuux)                                                 0\n",
       "double/molossus-cretic 2 res total                                                      0\n",
       "double/molossus-cretic pure+res total                                                  26\n",
       "double/molossus-cretic molossus not chor 1 res (uu---ux)                                0\n",
       "double/molossus-cretic molossus not chor 1 res (--uu-ux)                                0\n",
       "double/molossus-cretic molossus not chor 1 res (---uuux)                                1\n",
       "double/molossus-cretic molossus not chor 1 res total                                    1\n",
       "double/molossus-cretic molossus not chor 2 res (uu-uu-ux)                               0\n",
       "double/molossus-cretic molossus not chor 2 res (uu--uuux)                               0\n",
       "double/molossus-cretic molossus not chor 2 res (--uuuuux)                               0\n",
       "double/molossus-cretic molossus not chor 2 res total                                    0\n",
       "double/molossus-cretic molossus not chor total                                          1\n",
       "double/molossus-cretic chor res (-uu--ux)                                               4\n",
       "double/molossus-cretic chor 1 res (uuuu--ux)                                            1\n",
       "double/molossus-cretic chor 1 res (-uuuu-ux)                                            0\n",
       "double/molossus-cretic chor 1 res (-uu-uuux)                                            0\n",
       "double/molossus-cretic chor 1 res total                                                 1\n",
       "double/molossus-cretic chor total                                                       5\n",
       "double/molossus-cretic ep res (-u---ux)                                                 5\n",
       "double/molossus-cretic ep 1 res (uuu---ux)                                              0\n",
       "double/molossus-cretic ep 1 res (-uuu--ux)                                              0\n",
       "double/molossus-cretic ep 1 res (-u-uu-ux)                                              0\n",
       "double/molossus-cretic ep 1 res total                                                   0\n",
       "double/molossus-cretic ep total                                                         5\n",
       "double/molossus-cretic total                                                           37\n",
       "cretic/molossus-double-trochee pure cretic-double-trochee (-u--u-x)                    24\n",
       "cretic/molossus-double-trochee pure molossus-double-trochee (----u-x)                  26\n",
       "cretic/molossus-double-trochee 1 res (uuu--u-x)                                         3\n",
       "cretic/molossus-double-trochee 1 res (-uuu-u-x)                                         1\n",
       "cretic/molossus-double-trochee 1 res (-u-uuu-x)                                         7\n",
       "cretic/molossus-double-trochee 1 res (-u--uuux)                                         0\n",
       "cretic/molossus-double-trochee 1 res total                                             11\n",
       "cretic/molossus-double-trochee 2 res (uuuuu-u-x)                                        0\n",
       "cretic/molossus-double-trochee 2 res (uuu-uuu-x)                                        0\n",
       "cretic/molossus-double-trochee 2 res (uuu--uuux)                                        0\n",
       "cretic/molossus-double-trochee 2 res (-uuuuuu-x)                                        0\n",
       "cretic/molossus-double-trochee 2 res (-uuu-uuux)                                        0\n",
       "cretic/molossus-double-trochee 2 res (-u-uuuuux)                                        0\n",
       "cretic/molossus-double-trochee 2 res total                                              0\n",
       "cretic/molossus-double-trochee pure+res total                                          61\n",
       "cretic/molossus-double-trochee molossus not chor 1 res (uu---u-x)                       7\n",
       "cretic/molossus-double-trochee molossus not chor 1 res (--uu-u-x)                       4\n",
       "cretic/molossus-double-trochee molossus not chor 1 res (---uuu-x)                      19\n",
       "cretic/molossus-double-trochee molossus not chor 1 res (----uuux)                       1\n",
       "cretic/molossus-double-trochee molossus not chor 2 res (uu-uu-u-x)                      1\n",
       "cretic/molossus-double-trochee molossus not chor 2 res (uu--uuu-x)                      1\n",
       "cretic/molossus-double-trochee molossus not chor 2 res (uu---uuux)                      0\n",
       "cretic/molossus-double-trochee molossus not chor 2 res (--uuuuu-x)                      2\n",
       "cretic/molossus-double-trochee molossus not chor 2 res (--uu-uuux)                      0\n",
       "cretic/molossus-double-trochee molossus not chor 1 res total                           31\n",
       "cretic/molossus-double-trochee molossus not chor 2 res total                            4\n",
       "cretic/molossus-double-trochee molossus not chor total                                 35\n",
       "cretic/molossus-double-trochee chor res (-uu--u-x)                                      9\n",
       "cretic/molossus-double-trochee chor 1 res (uuuu--u-x)                                   1\n",
       "cretic/molossus-double-trochee chor 1 res (-uuuu-u-x)                                   0\n",
       "cretic/molossus-double-trochee chor 1 res (-uu-uuu-x)                                   1\n",
       "cretic/molossus-double-trochee chor 1 res (-uu--uuux)                                   0\n",
       "cretic/molossus-double-trochee chor 1 res total                                         2\n",
       "cretic/molossus-double-trochee chor total                                              11\n",
       "cretic/molossus-double-trochee ep res (-u---u-x)                                        7\n",
       "cretic/molossus-double-trochee ep 1 res (uuu---u-x)                                     2\n",
       "cretic/molossus-double-trochee ep 1 res (-uuu--u-x)                                     2\n",
       "cretic/molossus-double-trochee ep 1 res (-u-uu-u-x)                                     0\n",
       "cretic/molossus-double-trochee ep 1 res (-u--uuu-x)                                     2\n",
       "cretic/molossus-double-trochee ep 1 res (-u---uuux)                                     0\n",
       "cretic/molossus-double-trochee ep 1 res total                                           6\n",
       "cretic/molossus-double-trochee ep total                                                13\n",
       "cretic/molossus-double-trochee total                                                  120\n",
       "cretic/molossus-hypodochmiac pure cretic-hypodochmiac (-u--u-ux)                        0\n",
       "cretic/molossus-hypodochmiac pure molossus-hypodochmiac (----u-ux)                      2\n",
       "cretic/molossus-hypodochmiac 1 res (uuu--u-ux)                                          0\n",
       "cretic/molossus-hypodochmiac 1 res (-uuuu-u-ux)                                         0\n",
       "cretic/molossus-hypodochmiac 1 res (-u-uuuu-ux)                                         0\n",
       "cretic/molossus-hypodochmiac 1 res (-u--uuuux)                                          0\n",
       "cretic/molossus-hypodochmiac 1 res total                                                0\n",
       "cretic/molossus-hypodochmiac 2 res (uuuuu-u-ux)                                         0\n",
       "cretic/molossus-hypodochmiac 2 res (uuu-uuu-ux)                                         0\n",
       "cretic/molossus-hypodochmiac 2 res (uuu--uuuux)                                         0\n",
       "cretic/molossus-hypodochmiac 2 res (-uuuuuu-ux)                                         0\n",
       "cretic/molossus-hypodochmiac 2 res (-uuu-uuuux)                                         0\n",
       "cretic/molossus-hypodochmiac 2 res (-u-uuuuuux)                                         0\n",
       "cretic/molossus-hypodochmiac 2 res total                                                0\n",
       "cretic/molossus-hypodochmiac pure+res total                                             2\n",
       "cretic/molossus-hypodochmiac molossus not chor 1 res (uu---u-ux)                        0\n",
       "cretic/molossus-hypodochmiac molossus not chor 1 res (--uu-u-ux)                        0\n",
       "cretic/molossus-hypodochmiac molossus not chor 1 res (---uuu-ux)                        0\n",
       "cretic/molossus-hypodochmiac molossus not chor 1 res (----uuuux)                        0\n",
       "cretic/molossus-hypodochmiac molossus not chor 2 res (uu-uu-u-ux)                       0\n",
       "cretic/molossus-hypodochmiac molossus not chor 2 res (uu--uuu-ux)                       1\n",
       "cretic/molossus-hypodochmiac molossus not chor 2 res (uu---uuuux)                       0\n",
       "cretic/molossus-hypodochmiac molossus not chor 2 res (--uuuuu-ux)                       0\n",
       "cretic/molossus-hypodochmiac molossus not chor 2 res (--uu-uuuux)                       0\n",
       "cretic/molossus-hypodochmiac molossus not chor 2 res (---uuuuuux)                       0\n",
       "cretic/molossus-hypodochmiac molossus not chor 1 res total                              0\n",
       "cretic/molossus-hypodochmiac molossus not chor 2 res total                              1\n",
       "cretic/molossus-hypodochmiac molossus not chor total                                    1\n",
       "cretic/molossus-hypodochmiac chor res (-uu--u-ux)                                       2\n",
       "cretic/molossus-hypodochmiac chor 1 res (uuuu--u-ux)                                    0\n",
       "cretic/molossus-hypodochmiac chor 1 res (-uu-uuu-ux)                                    0\n",
       "cretic/molossus-hypodochmiac chor 1 res (-uu--uuuux)                                    0\n",
       "cretic/molossus-hypodochmiac chor 1 res total                                           0\n",
       "cretic/molossus-hypodochmiac chor total                                                 2\n",
       "cretic/molossus-hypodochmiac ep res (-u---u-ux)                                         0\n",
       "cretic/molossus-hypodochmiac ep 1 res (-uuu--u-ux)                                      0\n",
       "cretic/molossus-hypodochmiac ep 1 res (-u-uu-u-ux)                                      0\n",
       "cretic/molossus-hypodochmiac ep 1 res (-u--uuu-ux)                                      1\n",
       "cretic/molossus-hypodochmiac ep 1 res (-u---uuuux)                                      0\n",
       "cretic/molossus-hypodochmiac ep 1 res total                                             1\n",
       "cretic/molossus-hypodochmiac ep total                                                   1\n",
       "cretic/molossus-hypodochmiac total                                                      6\n",
       "iambic/trochaic (-u--u-u-x)                                                             0\n",
       "iambic/trochaic (-u--u-u-ux)                                                            0\n",
       "iambic/trochaic (-u--u-u-u-x)                                                           0\n",
       "iambic/trochaic (-u--u-u-u-ux)                                                          0\n",
       "iambic/trochaic total                                                                   0\n",
       "spondaic/dactylic (----x)                                                              14\n",
       "spondaic/dactylic heroic (-uu-x)                                                        3\n",
       "spondaic/dactylic total                                                                17\n",
       "Name: 35, dtype: object"
      ]
     },
     "execution_count": 31,
     "metadata": {},
     "output_type": "execute_result"
    }
   ],
   "source": [
    "pd.options.display.max_rows = 4000\n",
    "plm = df.loc[df['title'] == 'pro lege manilia']\n",
    "plm.iloc[0]"
   ]
  },
  {
   "cell_type": "code",
   "execution_count": 24,
   "metadata": {},
   "outputs": [
    {
     "data": {
      "text/plain": [
       "292"
      ]
     },
     "execution_count": 24,
     "metadata": {},
     "output_type": "execute_result"
    }
   ],
   "source": [
    "plm_total = int(plm['total clausulae'] - plm['total_excluded'])\n",
    "plm_total"
   ]
  },
  {
   "cell_type": "code",
   "execution_count": 25,
   "metadata": {},
   "outputs": [],
   "source": [
    "plm_cretic_trochee_total = plm['cretic-trochee total']\n",
    "plm_double_molossus_cretic_total = plm['double/molossus-cretic total']\n",
    "plm_cretic_molossus_double_trochee = plm['cretic/molossus-double-trochee total']\n",
    "plm_cretic_molussus_hypodochmiac_total = plm['cretic/molossus-hypodochmiac total']\n",
    "plm_heroic = plm['spondaic/dactylic heroic (-uu-x)']"
   ]
  },
  {
   "cell_type": "code",
   "execution_count": 26,
   "metadata": {},
   "outputs": [
    {
     "data": {
      "text/plain": [
       "309"
      ]
     },
     "execution_count": 26,
     "metadata": {},
     "output_type": "execute_result"
    }
   ],
   "source": [
    "total_artistic = plm_cretic_trochee_total + \\\n",
    "                 plm_double_molossus_cretic_total + \\\n",
    "                 plm_cretic_molossus_double_trochee + \\\n",
    "                 plm_cretic_molussus_hypodochmiac_total + \\\n",
    "                 plm_heroic\n",
    "int(total_artistic)"
   ]
  },
  {
   "cell_type": "code",
   "execution_count": 27,
   "metadata": {},
   "outputs": [
    {
     "data": {
      "text/plain": [
       "35    1.058219\n",
       "dtype: float64"
      ]
     },
     "execution_count": 27,
     "metadata": {},
     "output_type": "execute_result"
    }
   ],
   "source": [
    "total_artistic / plm_total"
   ]
  },
  {
   "cell_type": "code",
   "execution_count": null,
   "metadata": {},
   "outputs": [],
   "source": []
  }
 ],
 "metadata": {
  "kernelspec": {
   "display_name": "Python 3",
   "language": "python",
   "name": "python3"
  },
  "language_info": {
   "codemirror_mode": {
    "name": "ipython",
    "version": 3
   },
   "file_extension": ".py",
   "mimetype": "text/x-python",
   "name": "python",
   "nbconvert_exporter": "python",
   "pygments_lexer": "ipython3",
   "version": "3.6.2"
  }
 },
 "nbformat": 4,
 "nbformat_minor": 2
}
