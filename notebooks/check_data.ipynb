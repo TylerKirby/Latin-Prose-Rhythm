{
 "cells": [
  {
   "cell_type": "code",
   "execution_count": 7,
   "metadata": {},
   "outputs": [],
   "source": [
    "import pandas as pd"
   ]
  },
  {
   "cell_type": "code",
   "execution_count": 8,
   "metadata": {},
   "outputs": [],
   "source": [
    "df = pd.read_csv('../data/cicero_df_zielinski.csv')"
   ]
  },
  {
   "cell_type": "code",
   "execution_count": 9,
   "metadata": {},
   "outputs": [
    {
     "data": {
      "text/plain": [
       "title                                                       pro sulla\n",
       "total_clausulae                                                   524\n",
       "total_excluded                                                     53\n",
       "abbrev_excluded                                                     8\n",
       "bracket_excluded                                                    2\n",
       "short_excluded                                                     43\n",
       "cretic-trochee (-u--x)                                            106\n",
       "cretic-trochee 1 res (uuu--x)                                       4\n",
       "cretic-trochee 1 res (-uuu-x)                                      28\n",
       "cretic-trochee 1 res (-u-uux)                                      11\n",
       "double/molossus-cretic pure double-cretic (-u--ux)                 42\n",
       "double/molossus-cretic pure molossus-cretic (----ux)               35\n",
       "double/molossus-cretic 1 res (uuu--ux)                              2\n",
       "double/molossus-cretic 1 res (-uuu-ux)                              1\n",
       "double/molossus-cretic 1 res (-u-uuux)                              3\n",
       "double/molossus-cretic molossus not chor 1 res (uu---ux)           11\n",
       "double/molossus-cretic molossus not chor 1 res (--uu-ux)            3\n",
       "double/molossus-cretic molossus not chor 1 res (---uuux)            2\n",
       "double/molossus-cretic chor res (-uu--ux)                           4\n",
       "double/molossus-cretic ep res (-u---ux)                             7\n",
       "double trochee (-u-x)                                             124\n",
       "double trochee 1 res (uuu-x)                                        6\n",
       "double trochee 1 res (-uuux)                                        2\n",
       "hypodochmiac (-u-ux)                                               14\n",
       "hypodochmiac 1 res (uuu-ux)                                         1\n",
       "hypodochmiac 1 res (-uuuux)                                         2\n",
       "spondaic (---x)                                                    40\n",
       "heroic (-uu-x)                                                      5\n",
       "first paeon (-uux)                                                 10\n",
       "choriamb trochee (-uu--x)                                           7\n",
       "short sequence (uuuuux)                                             1\n",
       "total_artistic                                                    471\n",
       "percent_artistic                                                    1\n",
       "Name: 68, dtype: object"
      ]
     },
     "execution_count": 9,
     "metadata": {},
     "output_type": "execute_result"
    }
   ],
   "source": [
    "pd.options.display.max_rows = 4000\n",
    "plm = df.loc[df['title'] == 'pro sulla']\n",
    "plm.iloc[0]"
   ]
  },
  {
   "cell_type": "code",
   "execution_count": 10,
   "metadata": {},
   "outputs": [
    {
     "data": {
      "text/plain": [
       "title                                                       pro roscio comoedo\n",
       "total_clausulae                                                            490\n",
       "total_excluded                                                             126\n",
       "abbrev_excluded                                                             11\n",
       "bracket_excluded                                                             6\n",
       "short_excluded                                                             106\n",
       "cretic-trochee (-u--x)                                                      51\n",
       "cretic-trochee 1 res (uuu--x)                                                8\n",
       "cretic-trochee 1 res (-uuu-x)                                                9\n",
       "cretic-trochee 1 res (-u-uux)                                                9\n",
       "double/molossus-cretic pure double-cretic (-u--ux)                          16\n",
       "double/molossus-cretic pure molossus-cretic (----ux)                        20\n",
       "double/molossus-cretic 1 res (uuu--ux)                                       2\n",
       "double/molossus-cretic 1 res (-uuu-ux)                                       1\n",
       "double/molossus-cretic 1 res (-u-uuux)                                       5\n",
       "double/molossus-cretic molossus not chor 1 res (uu---ux)                     6\n",
       "double/molossus-cretic molossus not chor 1 res (--uu-ux)                     5\n",
       "double/molossus-cretic molossus not chor 1 res (---uuux)                     2\n",
       "double/molossus-cretic chor res (-uu--ux)                                    3\n",
       "double/molossus-cretic ep res (-u---ux)                                      8\n",
       "double trochee (-u-x)                                                       68\n",
       "double trochee 1 res (uuu-x)                                                 6\n",
       "double trochee 1 res (-uuux)                                                 2\n",
       "hypodochmiac (-u-ux)                                                        13\n",
       "hypodochmiac 1 res (uuu-ux)                                                  1\n",
       "hypodochmiac 1 res (-uuuux)                                                  2\n",
       "spondaic (---x)                                                             79\n",
       "heroic (-uu-x)                                                              14\n",
       "first paeon (-uux)                                                          22\n",
       "choriamb trochee (-uu--x)                                                    8\n",
       "short sequence (uuuuux)                                                      2\n",
       "total_artistic                                                             362\n",
       "percent_artistic                                                       1.00552\n",
       "Name: 0, dtype: object"
      ]
     },
     "execution_count": 10,
     "metadata": {},
     "output_type": "execute_result"
    }
   ],
   "source": [
    "df.iloc[0]"
   ]
  },
  {
   "cell_type": "code",
   "execution_count": null,
   "metadata": {},
   "outputs": [],
   "source": []
  }
 ],
 "metadata": {
  "kernelspec": {
   "display_name": "Python 3",
   "language": "python",
   "name": "python3"
  },
  "language_info": {
   "codemirror_mode": {
    "name": "ipython",
    "version": 3
   },
   "file_extension": ".py",
   "mimetype": "text/x-python",
   "name": "python",
   "nbconvert_exporter": "python",
   "pygments_lexer": "ipython3",
   "version": "3.6.2"
  }
 },
 "nbformat": 4,
 "nbformat_minor": 2
}
