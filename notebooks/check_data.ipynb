{
 "cells": [
  {
   "cell_type": "code",
   "execution_count": 10,
   "metadata": {},
   "outputs": [],
   "source": [
    "import pandas as pd"
   ]
  },
  {
   "cell_type": "code",
   "execution_count": 11,
   "metadata": {},
   "outputs": [
    {
     "data": {
      "text/plain": [
       "title                                                   pro sulla\n",
       "total clausulae                                               524\n",
       "cretic-trochee (-u--x)                                        106\n",
       "cretic-trochee 1 res (uuu--x)                                   6\n",
       "cretic-trochee 1 res (-uuu-x)                                  28\n",
       "cretic-trochee 1 res (-u-uux)                                  11\n",
       "cretic-trochee 1 res total                                     45\n",
       "cretic-trochee 2 res (uuuuu-x)                                  5\n",
       "cretic-trochee 2 res (uuu-uux)                                  2\n",
       "cretic-trochee 2 res (-uuuuux)                                  1\n",
       "cretic-trochee 2 res total                                      8\n",
       "cretic-trochee pure+res total                                 159\n",
       "cretic-trochee chor res (-uu--x)                                8\n",
       "cretic-trochee chor 1 res (uuuu--x)                             1\n",
       "cretic-trochee chor 1 res (-uuuu-x)                             1\n",
       "cretic-trochee chor 1 res (-uu-uux)                             0\n",
       "cretic-trochee chor 1 res total                                 2\n",
       "cretic-trochee chor total                                      10\n",
       "cretic-trochee ep res (-u---x)                                  8\n",
       "cretic-trochee ep 1 res (uuu---x)                               1\n",
       "cretic-trochee ep 1 res (-uuu--x)                               4\n",
       "cretic-trochee ep 1 res (-u-uu-x)                               1\n",
       "cretic-trochee ep 1 res (-u--uux)                               4\n",
       "cretic-trochee ep 1 res total                                  10\n",
       "cretic-trochee ep total                                        18\n",
       "cretic-trochee total                                          187\n",
       "double/molossus-cretic pure double-cretic (-u--ux)             42\n",
       "double/molossus-cretic pure molossus-cretic (----ux)           38\n",
       "double/molossus-cretic 1 res (uuu--ux)                          2\n",
       "double/molossus-cretic 1 res (-uuu-ux)                          1\n",
       "                                                          ...    \n",
       "cretic/molossus-hypodochmiac chor res (-uu--u-ux)               0\n",
       "cretic/molossus-hypodochmiac chor 1 res (uuuu--u-ux)            0\n",
       "cretic/molossus-hypodochmiac chor 1 res (-uuuu-u-ux)            0\n",
       "cretic/molossus-hypodochmiac chor 1 res (-uu-uuu-ux)            0\n",
       "cretic/molossus-hypodochmiac chor 1 res (-uu--uuuux)            0\n",
       "cretic/molossus-hypodochmiac chor 1 res total                   0\n",
       "cretic/molossus-hypodochmiac chor total                         0\n",
       "cretic/molossus-hypodochmiac ep res (-u---u-ux)                 4\n",
       "cretic/molossus-hypodochmiac ep 1 res (uuu---u-ux)              0\n",
       "cretic/molossus-hypodochmiac ep 1 res (-uuu--u-ux)              1\n",
       "cretic/molossus-hypodochmiac ep 1 res (-u-uu-u-ux)              0\n",
       "cretic/molossus-hypodochmiac ep 1 res (-u--uuu-ux)              0\n",
       "cretic/molossus-hypodochmiac ep 1 res (-u---uuuux)              0\n",
       "cretic/molossus-hypodochmiac ep 1 res total                     1\n",
       "cretic/molossus-hypodochmiac ep total                           5\n",
       "cretic/molossus-hypodochmiac total                             12\n",
       "iambic/trochaic (-u--u-u-x)                                     3\n",
       "iambic/trochaic (-u--u-u-ux)                                    0\n",
       "iambic/trochaic (-u--u-u-u-x)                                   0\n",
       "iambic/trochaic (-u--u-u-u-ux)                                  0\n",
       "iambic/trochaic total                                           3\n",
       "spondaic/dactylic (----u)                                     219\n",
       "spondaic/dactylic (-----x )                                     0\n",
       "spondaic/dactylic (-u---x)                                      8\n",
       "spondaic/dactylic (-u----x)                                    15\n",
       "spondaic/dactylic (------x)                                     5\n",
       "spondaic/dactylic (-uu--x)                                      8\n",
       "spondaic/dactylic (-u--uuux)                                    1\n",
       "spondaic/dactylic (-u--uu-x)                                    0\n",
       "spondaic/dactylic total                                       256\n",
       "Name: 68, Length: 127, dtype: object"
      ]
     },
     "execution_count": 11,
     "metadata": {},
     "output_type": "execute_result"
    }
   ],
   "source": [
    "df = pd.read_csv('../data/cicero_df.csv')\n",
    "df.iloc[68]"
   ]
  },
  {
   "cell_type": "code",
   "execution_count": null,
   "metadata": {},
   "outputs": [],
   "source": [
    "r = df.iloc[68].tolist()\n",
    "# r = [int(x) for x in r]\n",
    "# sum(r)\n",
    "len()"
   ]
  },
  {
   "cell_type": "code",
   "execution_count": null,
   "metadata": {},
   "outputs": [],
   "source": [
    "with open('/Users/tyler/Datasets/phi-macronized/cicero/pro_sulla.txt') as f:\n",
    "    text = f.read()"
   ]
  },
  {
   "cell_type": "code",
   "execution_count": null,
   "metadata": {},
   "outputs": [],
   "source": []
  },
  {
   "cell_type": "code",
   "execution_count": null,
   "metadata": {},
   "outputs": [],
   "source": []
  }
 ],
 "metadata": {
  "kernelspec": {
   "display_name": "Python 3",
   "language": "python",
   "name": "python3"
  },
  "language_info": {
   "codemirror_mode": {
    "name": "ipython",
    "version": 3
   },
   "file_extension": ".py",
   "mimetype": "text/x-python",
   "name": "python",
   "nbconvert_exporter": "python",
   "pygments_lexer": "ipython3",
   "version": "3.6.2"
  }
 },
 "nbformat": 4,
 "nbformat_minor": 2
}
