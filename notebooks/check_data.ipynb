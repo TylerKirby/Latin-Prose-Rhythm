{
 "cells": [
  {
   "cell_type": "code",
   "execution_count": 1,
   "metadata": {},
   "outputs": [],
   "source": [
    "import pandas as pd"
   ]
  },
  {
   "cell_type": "code",
   "execution_count": 2,
   "metadata": {},
   "outputs": [],
   "source": [
    "df = pd.read_csv('../data/cicero_df_zielinski.csv')"
   ]
  },
  {
   "cell_type": "code",
   "execution_count": 3,
   "metadata": {},
   "outputs": [
    {
     "data": {
      "text/plain": [
       "title                                                       pro lege manilia\n",
       "total_clausulae                                                          298\n",
       "total_excluded                                                             6\n",
       "abbrev_excluded                                                            5\n",
       "bracket_excluded                                                           1\n",
       "cretic-trochee (-u--x)                                                    87\n",
       "cretic-trochee 1 res (uuu--x)                                              6\n",
       "cretic-trochee 1 res (-uuu-x)                                             31\n",
       "cretic-trochee 1 res (-u-uux)                                              5\n",
       "double/molossus-cretic pure double-cretic (-u--ux)                        13\n",
       "double/molossus-cretic pure molossus-cretic (----ux)                      10\n",
       "double/molossus-cretic 1 res (uuu--ux)                                     1\n",
       "double/molossus-cretic 1 res (-uuu-ux)                                     2\n",
       "double/molossus-cretic 1 res (-u-uuux)                                     0\n",
       "double/molossus-cretic molossus not chor 1 res (uu---ux)                   0\n",
       "double/molossus-cretic molossus not chor 1 res (--uu-ux)                   0\n",
       "double/molossus-cretic molossus not chor 1 res (---uuux)                   1\n",
       "double/molossus-cretic chor res (-uu--ux)                                  4\n",
       "double/molossus-cretic ep res (-u---ux)                                    5\n",
       "double trochee (-u-x)                                                     84\n",
       "double trochee 1 res (uuu-x)                                               2\n",
       "double trochee 1 res (-uuux)                                               0\n",
       "hypodochmiac (-u-ux)                                                       5\n",
       "hypodochmiac 1 res (uuuu-ux)                                               0\n",
       "hypodochmiac 1 res (-uuuux)                                                0\n",
       "spondaic (---x)                                                           22\n",
       "heroic (-uu-x)                                                             3\n",
       "Name: 35, dtype: object"
      ]
     },
     "execution_count": 3,
     "metadata": {},
     "output_type": "execute_result"
    }
   ],
   "source": [
    "pd.options.display.max_rows = 4000\n",
    "plm = df.loc[df['title'] == 'pro lege manilia']\n",
    "plm.iloc[0]"
   ]
  },
  {
   "cell_type": "code",
   "execution_count": 4,
   "metadata": {},
   "outputs": [
    {
     "data": {
      "text/plain": [
       "292"
      ]
     },
     "execution_count": 4,
     "metadata": {},
     "output_type": "execute_result"
    }
   ],
   "source": [
    "plm_total = int(plm['total_clausulae'] - plm['total_excluded'])\n",
    "plm_total"
   ]
  },
  {
   "cell_type": "code",
   "execution_count": 5,
   "metadata": {},
   "outputs": [],
   "source": [
    "plm_cretic_trochee_total = plm['cretic-trochee total']\n",
    "plm_double_molossus_cretic_total = plm['double/molossus-cretic total']\n",
    "plm_cretic_molossus_double_trochee = plm['cretic/molossus-double-trochee total']\n",
    "plm_cretic_molussus_hypodochmiac_total = plm['cretic/molossus-hypodochmiac total']\n",
    "plm_heroic = plm['spondaic/dactylic heroic (-uu-x)']"
   ]
  },
  {
   "cell_type": "code",
   "execution_count": 6,
   "metadata": {},
   "outputs": [
    {
     "data": {
      "text/plain": [
       "262"
      ]
     },
     "execution_count": 6,
     "metadata": {},
     "output_type": "execute_result"
    }
   ],
   "source": [
    "total_artistic = plm_cretic_trochee_total + \\\n",
    "                 plm_double_molossus_cretic_total + \\\n",
    "                 plm_cretic_molossus_double_trochee + \\\n",
    "                 plm_cretic_molussus_hypodochmiac_total + \\\n",
    "                 plm_heroic\n",
    "int(total_artistic)"
   ]
  },
  {
   "cell_type": "code",
   "execution_count": 7,
   "metadata": {},
   "outputs": [
    {
     "data": {
      "text/plain": [
       "35    0.89726\n",
       "dtype: float64"
      ]
     },
     "execution_count": 7,
     "metadata": {},
     "output_type": "execute_result"
    }
   ],
   "source": [
    "total_artistic / plm_total"
   ]
  }
 ],
 "metadata": {
  "kernelspec": {
   "display_name": "Python 3",
   "language": "python",
   "name": "python3"
  },
  "language_info": {
   "codemirror_mode": {
    "name": "ipython",
    "version": 3
   },
   "file_extension": ".py",
   "mimetype": "text/x-python",
   "name": "python",
   "nbconvert_exporter": "python",
   "pygments_lexer": "ipython3",
   "version": "3.6.2"
  }
 },
 "nbformat": 4,
 "nbformat_minor": 2
}
