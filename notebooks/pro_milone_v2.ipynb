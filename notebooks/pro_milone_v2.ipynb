{
 "cells": [
  {
   "cell_type": "code",
   "execution_count": 1,
   "metadata": {},
   "outputs": [],
   "source": [
    "text = \"\"\"Etsī vereor, jūdicēs, nē turpe sit prō fortissimō virō \n",
    "dīcere incipientem timēre minimēque deceat, cum T. Annius \n",
    "ipse magis dē reī pūblicae salūte quam dē suā perturbētur, \n",
    "mē ad ējus causam parem animī magnitūdinem adferre nōn \n",
    "posse, tamen haec novī jūdicī nova fōrma terret oculōs quī, \n",
    "quōcumque incīdērunt, veterem cōnsuētūdinem forī et pristī-\n",
    "num mōrem jūdiciōrum requīrunt. Nōn enim corōna cōn-\n",
    "sessus vester cīnctus est, ut solēbat; nōn ūsitātā frequentiā \n",
    "stīpātī sumus; nōn illa praesidia quae prō templīs omnibus \n",
    "cernitis, etsī contrā vim conlocāta sunt, nōn adferunt tamen \n",
    "ōrātōrī terrōris aliquid, ut in forō et in jūdiciō, quamquam \n",
    "praesidiīs salūtāribus et necessāriīs saeptī sumus, tamen nē \n",
    "nōn timēre quidem sine aliquō timōre possīmus. Quae sī \n",
    "opposita Mīlōnī putārem, cēderem temporī, jūdicēs, nec \n",
    "enim inter tantam vim armōrum exīstimārem esse ōrātiōnī \n",
    "locum. Sed mē recreat et reficit Cn. Pompēī, sapientissimī \n",
    "et jūstissimī virī, cōnsilium, quī profectō nec jūstitiae suae \n",
    "putāret esse, quem reum sententiīs jūdicum trādidisset, eun-  \n",
    "dem tēlīs mīlitum dēdere, nec sapientiae temeritātem concī-\n",
    "tatae multitūdinis auctōritāte pūblicā armāre. Quam ob \n",
    "rem illa arma, centuriōnēs, cohortēs nōn perīculum nōbīs, \n",
    "sed praesidium dēnūntiant, neque sōlum ut quiētō, sed \n",
    "etiam ut magnō animō sīmus hortantur, nec auxilium modo \n",
    "dēfēnsiōnī meae vērum etiam silentium pollicentur. Relī-\n",
    "quā vērō multitūdō, quae quidem est cīvium, tōta nostra est, \n",
    "nec eōrum quisquam quōs undique intuentīs, unde aliquā \n",
    "forī pars aspicī potest, et hūjus exitum jūdicī exspectantīs \n",
    "vidētis, nōn cum virtūtī Milōnis favet, tum dē sē, dē līberīs \n",
    "suīs, dē patriā, dē fortūnīs hodiernō diē dēcertārī putat. \n",
    "Vnum genus est adversum īnfēstumque nōbīs eōrum quōs \n",
    "P. Clōdī furor rapīnīs et incendiīs et omnibus exitiīs pūblicīs \n",
    "pāvit; quī hesternā etiam contiōne incitātī sunt ut vōbīs \n",
    "vōce praeīrent quid jūdicārētis. Quōrum clāmor sī quī \n",
    "forte fuerit, admonēre vōs dēbēbit ut eum cīvem retineātis \n",
    "quī semper genus illud hominum clāmōrēsque maximōs prae \n",
    "vestrā salūte neglēxit. Quam ob rem adeste animīs, jūdicēs, \n",
    "et timōrem, sī quem habētis, dēpōnite. Nam sī umquam dē \n",
    "bonīs et fortibus virīs, sī umquam dē bene meritīs cīvibus \n",
    "potestās vōbīs jūdicandī fuit, sī dēnique umquam locus \n",
    "amplissimōrum ōrdinum dēlēctīs virīs datus est ut sua \n",
    "studia ergā fortīs et bonōs cīvīs, quae voltū et verbīs saepe \n",
    "significāssent, rē et sententiīs dēclārārent, hoc profectō tem-\n",
    "pore eam potestātem omnem vōs habētis ut statuātis utrum \n",
    "nōs quī semper vestrae auctōritātī dēditī fuimus semper \n",
    "miserī lūgeāmus an diū vexātī ā perditissimīs cīvibus alī-\n",
    "quandō per vōs ac per vestram fidem, virtūtem sapientiamque \n",
    "recreēmur. Quid enim nōbīs duōbus, jūdicēs, labōriōsius, \n",
    "quid magis sollicitum, magis exercitum dīcī aut fingī potest, \n",
    "quī spē amplissimōrum praemiōrum ad rem pūblicam  \n",
    "adductī metū crūdēlissimōrum suppliciōrum carēre nōn \n",
    "possumus? Equidem cēterās tempestātēs et procellās in \n",
    "illīs dumtaxat flūctibus contiōnum semper putāvī Milōnī \n",
    "esse subeundās, quia semper prō bonīs contrā improbōs \n",
    "sēnserat, in jūdiciō vērō et in eō cōnsiliō in quō ex conjūnctīs \n",
    "ōrdinibus amplissimī virī jūdicārent numquam exīstimāvī \n",
    "spem ūllam esse habitūrōs Milōnis inimīcōs ad ējus nōn \n",
    "modo salūtem exstinguendam sed etiam glōriam per tālīs \n",
    "virōs īnfringendam. Quamquam in hāc causā jūdicēs, \n",
    "T. Annī tribūnātū rēbusque omnibus prō salūte reī pūblicae \n",
    "gestīs ad hūjus crīminis dēfēnsiōnem nōn abūtēmur. Nisi \n",
    "oculīs vīderītis īnsidiās Mīlōnī ā Clōdiō esse factās, nec \n",
    "dēprecātūrī sumus ut crīmen hoc nōbīs propter multa prae-\n",
    "clārā in rem pūblicam merita condōnētis, nec postulātūrī \n",
    "ut, quia mors P. Clōdī salūs vestra fuerit, idcircō eam virtūtī \n",
    "Milōnis potius quam populī Rōmānī fēlīcitātī adsignētis. \n",
    "Sīn illīus īnsidiae clāriōrēs hāc lūce fuerint, tum dēnique \n",
    "obsecrābō obtestāborque vōs, jūdicēs, sī cētera āmīsimus, \n",
    "hoc nōbīs saltem ut relinquātur, vītam ab inimīcōrum au-\n",
    "dācia tēlīsque ut impūne liceat dēfendere. \n",
    "\"\"\""
   ]
  },
  {
   "cell_type": "code",
   "execution_count": 3,
   "metadata": {},
   "outputs": [
    {
     "ename": "IndexError",
     "evalue": "list index out of range",
     "output_type": "error",
     "traceback": [
      "\u001b[0;31m---------------------------------------------------------------------------\u001b[0m",
      "\u001b[0;31mIndexError\u001b[0m                                Traceback (most recent call last)",
      "\u001b[0;32m<ipython-input-3-37524a8a820c>\u001b[0m in \u001b[0;36m<module>\u001b[0;34m()\u001b[0m\n\u001b[1;32m     10\u001b[0m \u001b[0;34m\u001b[0m\u001b[0m\n\u001b[1;32m     11\u001b[0m \u001b[0mtokens\u001b[0m \u001b[0;34m=\u001b[0m \u001b[0mpreprocessor\u001b[0m\u001b[0;34m.\u001b[0m\u001b[0mtokenize\u001b[0m\u001b[0;34m(\u001b[0m\u001b[0;34m)\u001b[0m\u001b[0;34m\u001b[0m\u001b[0m\n\u001b[0;32m---> 12\u001b[0;31m \u001b[0manalysis\u001b[0m\u001b[0;34m.\u001b[0m\u001b[0mget_rhythms\u001b[0m\u001b[0;34m(\u001b[0m\u001b[0mtokens\u001b[0m\u001b[0;34m)\u001b[0m\u001b[0;34m\u001b[0m\u001b[0m\n\u001b[0m",
      "\u001b[0;32m~/Projects/latin-prose-rhythm/prose_rhythm/analyze.py\u001b[0m in \u001b[0;36mget_rhythms\u001b[0;34m(self, tokens)\u001b[0m\n\u001b[1;32m     38\u001b[0m                 \u001b[0msyllables\u001b[0m \u001b[0;34m=\u001b[0m \u001b[0;34m[\u001b[0m\u001b[0mword\u001b[0m\u001b[0;34m[\u001b[0m\u001b[0;34m'syllables'\u001b[0m\u001b[0;34m]\u001b[0m \u001b[0;32mfor\u001b[0m \u001b[0mword\u001b[0m \u001b[0;32min\u001b[0m \u001b[0msentence\u001b[0m\u001b[0;34m[\u001b[0m\u001b[0;34m'structured_sentence'\u001b[0m\u001b[0;34m]\u001b[0m\u001b[0;34m]\u001b[0m\u001b[0;34m\u001b[0m\u001b[0m\n\u001b[1;32m     39\u001b[0m                 \u001b[0mflat_syllables\u001b[0m \u001b[0;34m=\u001b[0m \u001b[0;34m[\u001b[0m\u001b[0msyllable\u001b[0m \u001b[0;32mfor\u001b[0m \u001b[0mword\u001b[0m \u001b[0;32min\u001b[0m \u001b[0msyllables\u001b[0m \u001b[0;32mfor\u001b[0m \u001b[0msyllable\u001b[0m \u001b[0;32min\u001b[0m \u001b[0mword\u001b[0m\u001b[0;34m]\u001b[0m\u001b[0;34m\u001b[0m\u001b[0m\n\u001b[0;32m---> 40\u001b[0;31m                 \u001b[0mfiltered_elided\u001b[0m \u001b[0;34m=\u001b[0m \u001b[0mself\u001b[0m\u001b[0;34m.\u001b[0m\u001b[0mfilter_elided_syllables\u001b[0m\u001b[0;34m(\u001b[0m\u001b[0mflat_syllables\u001b[0m\u001b[0;34m)\u001b[0m\u001b[0;34m\u001b[0m\u001b[0m\n\u001b[0m\u001b[1;32m     41\u001b[0m                 \u001b[0;32mfor\u001b[0m \u001b[0msyllable\u001b[0m \u001b[0;32min\u001b[0m \u001b[0mfiltered_elided\u001b[0m\u001b[0;34m[\u001b[0m\u001b[0;34m:\u001b[0m\u001b[0;34m:\u001b[0m\u001b[0;34m-\u001b[0m\u001b[0;36m1\u001b[0m\u001b[0;34m]\u001b[0m\u001b[0;34m[\u001b[0m\u001b[0;34m:\u001b[0m\u001b[0;34m-\u001b[0m\u001b[0;36m1\u001b[0m\u001b[0;34m]\u001b[0m\u001b[0;34m:\u001b[0m\u001b[0;34m\u001b[0m\u001b[0m\n\u001b[1;32m     42\u001b[0m                     \u001b[0;32mif\u001b[0m \u001b[0mlen\u001b[0m\u001b[0;34m(\u001b[0m\u001b[0msentence_clausula\u001b[0m\u001b[0;34m)\u001b[0m \u001b[0;34m<\u001b[0m \u001b[0mself\u001b[0m\u001b[0;34m.\u001b[0m\u001b[0mclausula_length\u001b[0m\u001b[0;34m:\u001b[0m\u001b[0;34m\u001b[0m\u001b[0m\n",
      "\u001b[0;32m~/Projects/latin-prose-rhythm/prose_rhythm/analyze.py\u001b[0m in \u001b[0;36mfilter_elided_syllables\u001b[0;34m(flat_syllable_list)\u001b[0m\n\u001b[1;32m     20\u001b[0m         \u001b[0mi\u001b[0m \u001b[0;34m=\u001b[0m \u001b[0;36m0\u001b[0m\u001b[0;34m\u001b[0m\u001b[0m\n\u001b[1;32m     21\u001b[0m         \u001b[0;32mfor\u001b[0m \u001b[0mi\u001b[0m \u001b[0;32min\u001b[0m \u001b[0mrange\u001b[0m\u001b[0;34m(\u001b[0m\u001b[0;36m0\u001b[0m\u001b[0;34m,\u001b[0m \u001b[0mlen\u001b[0m\u001b[0;34m(\u001b[0m\u001b[0mflat_syllable_list\u001b[0m\u001b[0;34m)\u001b[0m \u001b[0;34m-\u001b[0m \u001b[0;36m1\u001b[0m\u001b[0;34m)\u001b[0m\u001b[0;34m:\u001b[0m\u001b[0;34m\u001b[0m\u001b[0m\n\u001b[0;32m---> 22\u001b[0;31m             \u001b[0;32mif\u001b[0m \u001b[0mflat_syllable_list\u001b[0m\u001b[0;34m[\u001b[0m\u001b[0mi\u001b[0m\u001b[0;34m]\u001b[0m\u001b[0;34m[\u001b[0m\u001b[0;34m'elide'\u001b[0m\u001b[0;34m]\u001b[0m\u001b[0;34m[\u001b[0m\u001b[0;36m0\u001b[0m\u001b[0;34m]\u001b[0m\u001b[0;34m:\u001b[0m\u001b[0;34m\u001b[0m\u001b[0m\n\u001b[0m\u001b[1;32m     23\u001b[0m                 \u001b[0mflat_syllable_list\u001b[0m\u001b[0;34m.\u001b[0m\u001b[0mpop\u001b[0m\u001b[0;34m(\u001b[0m\u001b[0mi\u001b[0m\u001b[0;34m+\u001b[0m\u001b[0;36m1\u001b[0m\u001b[0;34m)\u001b[0m\u001b[0;34m\u001b[0m\u001b[0m\n\u001b[1;32m     24\u001b[0m         \u001b[0;32mreturn\u001b[0m \u001b[0mflat_syllable_list\u001b[0m\u001b[0;34m\u001b[0m\u001b[0m\n",
      "\u001b[0;31mIndexError\u001b[0m: list index out of range"
     ]
    }
   ],
   "source": [
    "import sys\n",
    "sys.path.append('/Users/tyler/Projects/latin-prose-rhythm')\n",
    "\n",
    "from prose_rhythm.preprocessor import Preprocessor\n",
    "from prose_rhythm.analyze import Analyze\n",
    "from prose_rhythm.normalizer import Normalizer\n",
    "\n",
    "preprocessor = Preprocessor(text=text)\n",
    "analysis = Analyze()\n",
    "\n",
    "tokens = preprocessor.tokenize()\n",
    "analysis.get_rhythms(tokens)"
   ]
  },
  {
   "cell_type": "code",
   "execution_count": null,
   "metadata": {},
   "outputs": [],
   "source": [
    "ignored_text = \"Nōn enim corōna cōnsessūs vester cīnctus est ut solēbat nōn ūsitātā frequentiā stīpātī sumus nōn illa praesidia quae prō templīs omnibus cernitis etsī contrā vim conlocāta sunt nōn adferunt tamen ōrātōrī terrōris aliquid ut in forō et in jūdiciō quamquam praesidiīs salūtāribus et necessāriīs saeptī sumus tamen nē nōn timēre quidem sine aliquō timōre possīmus.\"\n",
    "preprocessor = Preprocessor(text=ignored_text)\n",
    "analysis = Analyze()\n",
    "\n",
    "tokens"
   ]
  },
  {
   "cell_type": "code",
   "execution_count": null,
   "metadata": {},
   "outputs": [],
   "source": [
    "not_elided = \"sī quem habētis dēpōnite.\"\n",
    "preprocessor = Preprocessor(text=not_elided)\n",
    "analysis = Analyze()\n",
    "tokens = preprocessor.tokenize()\n",
    "tokens"
   ]
  },
  {
   "cell_type": "code",
   "execution_count": null,
   "metadata": {},
   "outputs": [],
   "source": []
  }
 ],
 "metadata": {
  "kernelspec": {
   "display_name": "Python 3",
   "language": "python",
   "name": "python3"
  },
  "language_info": {
   "codemirror_mode": {
    "name": "ipython",
    "version": 3
   },
   "file_extension": ".py",
   "mimetype": "text/x-python",
   "name": "python",
   "nbconvert_exporter": "python",
   "pygments_lexer": "ipython3",
   "version": "3.6.4"
  }
 },
 "nbformat": 4,
 "nbformat_minor": 2
}
